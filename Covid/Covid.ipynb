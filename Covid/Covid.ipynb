{
  "nbformat": 4,
  "nbformat_minor": 0,
  "metadata": {
    "colab": {
      "provenance": []
    },
    "kernelspec": {
      "name": "python3",
      "display_name": "Python 3"
    },
    "language_info": {
      "name": "python"
    },
    "gpuClass": "standard",
    "accelerator": "GPU"
  },
  "cells": [
    {
      "cell_type": "code",
      "execution_count": 20,
      "metadata": {
        "id": "l2Z2-fiTRzft"
      },
      "outputs": [],
      "source": [
        "import numpy as np\n",
        "import pandas as pd\n",
        "import matplotlib.pyplot as plt\n",
        "import os\n",
        "import zipfile"
      ]
    },
    {
      "cell_type": "markdown",
      "source": [
        "## Data\n",
        "\n",
        "- sex: 1 for female and 2 for male.\n",
        "- age: of the patient.\n",
        "- classification: covid test findings. Values 1-3 mean that the patient was diagnosed with covid in different\n",
        "degrees. 4 or higher means that the patient is not a carrier of covid or that the test is inconclusive.\n",
        "- patient type: type of care the patient received in the unit. 1 for returned home and 2 for hospitalization.\n",
        "- pneumonia: whether the patient already have air sacs inflammation or not.\n",
        "- pregnancy: whether the patient is pregnant or not.\n",
        "- diabetes: whether the patient has diabetes or not.\n",
        "- copd: Indicates whether the patient has Chronic obstructive pulmonary disease or not.\n",
        "asthma: whether the patient has asthma or not.\n",
        "- inmsupr: whether the patient is immunosuppressed or not.\n",
        "- hypertension: whether the patient has hypertension or not.\n",
        "- cardiovascular: whether the patient has heart or blood vessels related disease.\n",
        "- renal chronic: whether the patient has chronic renal disease or not.\n",
        "- other disease: whether the patient has other disease or not.\n",
        "- obesity: whether the patient is obese or not.\n",
        "- tobacco: whether the patient is a tobacco user.\n",
        "- usmr: Indicates whether the patient treated medical units of the first, second or third level.\n",
        "- medical unit: type of institution of the National Health System that provided the care.\n",
        "- intubed: whether the patient was connected to the ventilator.\n",
        "- icu: Indicates whether the patient had been admitted to an Intensive Care Unit.\n",
        "- date died: If the patient died indicate the date of death, and 9999-99-99 otherwise."
      ],
      "metadata": {
        "id": "craDbgC2S8Yd"
      }
    },
    {
      "cell_type": "markdown",
      "source": [
        "### Getting the data"
      ],
      "metadata": {
        "id": "c9kxYI4PS4-0"
      }
    },
    {
      "cell_type": "code",
      "source": [
        "\n",
        "! kaggle datasets download -d meirnizri/covid19-dataset --force\n",
        "\n",
        "zipref = zipfile.ZipFile(\"/content/covid19-dataset.zip\")\n",
        "zipref.extractall()\n",
        "zipref.close()"
      ],
      "metadata": {
        "id": "Gc-hMvquSqdM",
        "outputId": "efb2e0e8-f70a-41ab-dc4a-52f3741fea16",
        "colab": {
          "base_uri": "https://localhost:8080/"
        }
      },
      "execution_count": 21,
      "outputs": [
        {
          "output_type": "stream",
          "name": "stdout",
          "text": [
            "Downloading covid19-dataset.zip to /content\n",
            " 86% 4.00M/4.66M [00:01<00:00, 4.70MB/s]\n",
            "100% 4.66M/4.66M [00:01<00:00, 3.87MB/s]\n"
          ]
        }
      ]
    },
    {
      "cell_type": "code",
      "source": [
        "df = pd.read_csv('Covid Data.csv')\n",
        "print(df.shape)"
      ],
      "metadata": {
        "id": "xaBd7y8SS4Qk",
        "colab": {
          "base_uri": "https://localhost:8080/"
        },
        "outputId": "8f1ccc0d-3bdb-4ae0-9883-39f0e020e537"
      },
      "execution_count": 22,
      "outputs": [
        {
          "output_type": "stream",
          "name": "stdout",
          "text": [
            "(1048575, 21)\n"
          ]
        }
      ]
    },
    {
      "cell_type": "code",
      "source": [
        "df.head()"
      ],
      "metadata": {
        "id": "GxCxdSvkTrTl",
        "colab": {
          "base_uri": "https://localhost:8080/",
          "height": 300
        },
        "outputId": "7e8fe404-44fe-461a-a452-70fd4bad2e2c"
      },
      "execution_count": 23,
      "outputs": [
        {
          "output_type": "execute_result",
          "data": {
            "text/plain": [
              "   USMER  MEDICAL_UNIT  SEX  PATIENT_TYPE   DATE_DIED  INTUBED  PNEUMONIA  \\\n",
              "0      2             1    1             1  03/05/2020       97          1   \n",
              "1      2             1    2             1  03/06/2020       97          1   \n",
              "2      2             1    2             2  09/06/2020        1          2   \n",
              "3      2             1    1             1  12/06/2020       97          2   \n",
              "4      2             1    2             1  21/06/2020       97          2   \n",
              "\n",
              "   AGE  PREGNANT  DIABETES  ...  ASTHMA  INMSUPR  HIPERTENSION  OTHER_DISEASE  \\\n",
              "0   65         2         2  ...       2        2             1              2   \n",
              "1   72        97         2  ...       2        2             1              2   \n",
              "2   55        97         1  ...       2        2             2              2   \n",
              "3   53         2         2  ...       2        2             2              2   \n",
              "4   68        97         1  ...       2        2             1              2   \n",
              "\n",
              "   CARDIOVASCULAR  OBESITY  RENAL_CHRONIC  TOBACCO  CLASIFFICATION_FINAL  ICU  \n",
              "0               2        2              2        2                     3   97  \n",
              "1               2        1              1        2                     5   97  \n",
              "2               2        2              2        2                     3    2  \n",
              "3               2        2              2        2                     7   97  \n",
              "4               2        2              2        2                     3   97  \n",
              "\n",
              "[5 rows x 21 columns]"
            ],
            "text/html": [
              "\n",
              "  <div id=\"df-52a0aaff-a525-4e01-a64e-f6bf80b883d1\">\n",
              "    <div class=\"colab-df-container\">\n",
              "      <div>\n",
              "<style scoped>\n",
              "    .dataframe tbody tr th:only-of-type {\n",
              "        vertical-align: middle;\n",
              "    }\n",
              "\n",
              "    .dataframe tbody tr th {\n",
              "        vertical-align: top;\n",
              "    }\n",
              "\n",
              "    .dataframe thead th {\n",
              "        text-align: right;\n",
              "    }\n",
              "</style>\n",
              "<table border=\"1\" class=\"dataframe\">\n",
              "  <thead>\n",
              "    <tr style=\"text-align: right;\">\n",
              "      <th></th>\n",
              "      <th>USMER</th>\n",
              "      <th>MEDICAL_UNIT</th>\n",
              "      <th>SEX</th>\n",
              "      <th>PATIENT_TYPE</th>\n",
              "      <th>DATE_DIED</th>\n",
              "      <th>INTUBED</th>\n",
              "      <th>PNEUMONIA</th>\n",
              "      <th>AGE</th>\n",
              "      <th>PREGNANT</th>\n",
              "      <th>DIABETES</th>\n",
              "      <th>...</th>\n",
              "      <th>ASTHMA</th>\n",
              "      <th>INMSUPR</th>\n",
              "      <th>HIPERTENSION</th>\n",
              "      <th>OTHER_DISEASE</th>\n",
              "      <th>CARDIOVASCULAR</th>\n",
              "      <th>OBESITY</th>\n",
              "      <th>RENAL_CHRONIC</th>\n",
              "      <th>TOBACCO</th>\n",
              "      <th>CLASIFFICATION_FINAL</th>\n",
              "      <th>ICU</th>\n",
              "    </tr>\n",
              "  </thead>\n",
              "  <tbody>\n",
              "    <tr>\n",
              "      <th>0</th>\n",
              "      <td>2</td>\n",
              "      <td>1</td>\n",
              "      <td>1</td>\n",
              "      <td>1</td>\n",
              "      <td>03/05/2020</td>\n",
              "      <td>97</td>\n",
              "      <td>1</td>\n",
              "      <td>65</td>\n",
              "      <td>2</td>\n",
              "      <td>2</td>\n",
              "      <td>...</td>\n",
              "      <td>2</td>\n",
              "      <td>2</td>\n",
              "      <td>1</td>\n",
              "      <td>2</td>\n",
              "      <td>2</td>\n",
              "      <td>2</td>\n",
              "      <td>2</td>\n",
              "      <td>2</td>\n",
              "      <td>3</td>\n",
              "      <td>97</td>\n",
              "    </tr>\n",
              "    <tr>\n",
              "      <th>1</th>\n",
              "      <td>2</td>\n",
              "      <td>1</td>\n",
              "      <td>2</td>\n",
              "      <td>1</td>\n",
              "      <td>03/06/2020</td>\n",
              "      <td>97</td>\n",
              "      <td>1</td>\n",
              "      <td>72</td>\n",
              "      <td>97</td>\n",
              "      <td>2</td>\n",
              "      <td>...</td>\n",
              "      <td>2</td>\n",
              "      <td>2</td>\n",
              "      <td>1</td>\n",
              "      <td>2</td>\n",
              "      <td>2</td>\n",
              "      <td>1</td>\n",
              "      <td>1</td>\n",
              "      <td>2</td>\n",
              "      <td>5</td>\n",
              "      <td>97</td>\n",
              "    </tr>\n",
              "    <tr>\n",
              "      <th>2</th>\n",
              "      <td>2</td>\n",
              "      <td>1</td>\n",
              "      <td>2</td>\n",
              "      <td>2</td>\n",
              "      <td>09/06/2020</td>\n",
              "      <td>1</td>\n",
              "      <td>2</td>\n",
              "      <td>55</td>\n",
              "      <td>97</td>\n",
              "      <td>1</td>\n",
              "      <td>...</td>\n",
              "      <td>2</td>\n",
              "      <td>2</td>\n",
              "      <td>2</td>\n",
              "      <td>2</td>\n",
              "      <td>2</td>\n",
              "      <td>2</td>\n",
              "      <td>2</td>\n",
              "      <td>2</td>\n",
              "      <td>3</td>\n",
              "      <td>2</td>\n",
              "    </tr>\n",
              "    <tr>\n",
              "      <th>3</th>\n",
              "      <td>2</td>\n",
              "      <td>1</td>\n",
              "      <td>1</td>\n",
              "      <td>1</td>\n",
              "      <td>12/06/2020</td>\n",
              "      <td>97</td>\n",
              "      <td>2</td>\n",
              "      <td>53</td>\n",
              "      <td>2</td>\n",
              "      <td>2</td>\n",
              "      <td>...</td>\n",
              "      <td>2</td>\n",
              "      <td>2</td>\n",
              "      <td>2</td>\n",
              "      <td>2</td>\n",
              "      <td>2</td>\n",
              "      <td>2</td>\n",
              "      <td>2</td>\n",
              "      <td>2</td>\n",
              "      <td>7</td>\n",
              "      <td>97</td>\n",
              "    </tr>\n",
              "    <tr>\n",
              "      <th>4</th>\n",
              "      <td>2</td>\n",
              "      <td>1</td>\n",
              "      <td>2</td>\n",
              "      <td>1</td>\n",
              "      <td>21/06/2020</td>\n",
              "      <td>97</td>\n",
              "      <td>2</td>\n",
              "      <td>68</td>\n",
              "      <td>97</td>\n",
              "      <td>1</td>\n",
              "      <td>...</td>\n",
              "      <td>2</td>\n",
              "      <td>2</td>\n",
              "      <td>1</td>\n",
              "      <td>2</td>\n",
              "      <td>2</td>\n",
              "      <td>2</td>\n",
              "      <td>2</td>\n",
              "      <td>2</td>\n",
              "      <td>3</td>\n",
              "      <td>97</td>\n",
              "    </tr>\n",
              "  </tbody>\n",
              "</table>\n",
              "<p>5 rows × 21 columns</p>\n",
              "</div>\n",
              "      <button class=\"colab-df-convert\" onclick=\"convertToInteractive('df-52a0aaff-a525-4e01-a64e-f6bf80b883d1')\"\n",
              "              title=\"Convert this dataframe to an interactive table.\"\n",
              "              style=\"display:none;\">\n",
              "        \n",
              "  <svg xmlns=\"http://www.w3.org/2000/svg\" height=\"24px\"viewBox=\"0 0 24 24\"\n",
              "       width=\"24px\">\n",
              "    <path d=\"M0 0h24v24H0V0z\" fill=\"none\"/>\n",
              "    <path d=\"M18.56 5.44l.94 2.06.94-2.06 2.06-.94-2.06-.94-.94-2.06-.94 2.06-2.06.94zm-11 1L8.5 8.5l.94-2.06 2.06-.94-2.06-.94L8.5 2.5l-.94 2.06-2.06.94zm10 10l.94 2.06.94-2.06 2.06-.94-2.06-.94-.94-2.06-.94 2.06-2.06.94z\"/><path d=\"M17.41 7.96l-1.37-1.37c-.4-.4-.92-.59-1.43-.59-.52 0-1.04.2-1.43.59L10.3 9.45l-7.72 7.72c-.78.78-.78 2.05 0 2.83L4 21.41c.39.39.9.59 1.41.59.51 0 1.02-.2 1.41-.59l7.78-7.78 2.81-2.81c.8-.78.8-2.07 0-2.86zM5.41 20L4 18.59l7.72-7.72 1.47 1.35L5.41 20z\"/>\n",
              "  </svg>\n",
              "      </button>\n",
              "      \n",
              "  <style>\n",
              "    .colab-df-container {\n",
              "      display:flex;\n",
              "      flex-wrap:wrap;\n",
              "      gap: 12px;\n",
              "    }\n",
              "\n",
              "    .colab-df-convert {\n",
              "      background-color: #E8F0FE;\n",
              "      border: none;\n",
              "      border-radius: 50%;\n",
              "      cursor: pointer;\n",
              "      display: none;\n",
              "      fill: #1967D2;\n",
              "      height: 32px;\n",
              "      padding: 0 0 0 0;\n",
              "      width: 32px;\n",
              "    }\n",
              "\n",
              "    .colab-df-convert:hover {\n",
              "      background-color: #E2EBFA;\n",
              "      box-shadow: 0px 1px 2px rgba(60, 64, 67, 0.3), 0px 1px 3px 1px rgba(60, 64, 67, 0.15);\n",
              "      fill: #174EA6;\n",
              "    }\n",
              "\n",
              "    [theme=dark] .colab-df-convert {\n",
              "      background-color: #3B4455;\n",
              "      fill: #D2E3FC;\n",
              "    }\n",
              "\n",
              "    [theme=dark] .colab-df-convert:hover {\n",
              "      background-color: #434B5C;\n",
              "      box-shadow: 0px 1px 3px 1px rgba(0, 0, 0, 0.15);\n",
              "      filter: drop-shadow(0px 1px 2px rgba(0, 0, 0, 0.3));\n",
              "      fill: #FFFFFF;\n",
              "    }\n",
              "  </style>\n",
              "\n",
              "      <script>\n",
              "        const buttonEl =\n",
              "          document.querySelector('#df-52a0aaff-a525-4e01-a64e-f6bf80b883d1 button.colab-df-convert');\n",
              "        buttonEl.style.display =\n",
              "          google.colab.kernel.accessAllowed ? 'block' : 'none';\n",
              "\n",
              "        async function convertToInteractive(key) {\n",
              "          const element = document.querySelector('#df-52a0aaff-a525-4e01-a64e-f6bf80b883d1');\n",
              "          const dataTable =\n",
              "            await google.colab.kernel.invokeFunction('convertToInteractive',\n",
              "                                                     [key], {});\n",
              "          if (!dataTable) return;\n",
              "\n",
              "          const docLinkHtml = 'Like what you see? Visit the ' +\n",
              "            '<a target=\"_blank\" href=https://colab.research.google.com/notebooks/data_table.ipynb>data table notebook</a>'\n",
              "            + ' to learn more about interactive tables.';\n",
              "          element.innerHTML = '';\n",
              "          dataTable['output_type'] = 'display_data';\n",
              "          await google.colab.output.renderOutput(dataTable, element);\n",
              "          const docLink = document.createElement('div');\n",
              "          docLink.innerHTML = docLinkHtml;\n",
              "          element.appendChild(docLink);\n",
              "        }\n",
              "      </script>\n",
              "    </div>\n",
              "  </div>\n",
              "  "
            ]
          },
          "metadata": {},
          "execution_count": 23
        }
      ]
    },
    {
      "cell_type": "code",
      "source": [
        "df.info()"
      ],
      "metadata": {
        "id": "9pWmriqsUmI-",
        "colab": {
          "base_uri": "https://localhost:8080/"
        },
        "outputId": "77934737-644f-4121-ae68-4b619300797d"
      },
      "execution_count": 24,
      "outputs": [
        {
          "output_type": "stream",
          "name": "stdout",
          "text": [
            "<class 'pandas.core.frame.DataFrame'>\n",
            "RangeIndex: 1048575 entries, 0 to 1048574\n",
            "Data columns (total 21 columns):\n",
            " #   Column                Non-Null Count    Dtype \n",
            "---  ------                --------------    ----- \n",
            " 0   USMER                 1048575 non-null  int64 \n",
            " 1   MEDICAL_UNIT          1048575 non-null  int64 \n",
            " 2   SEX                   1048575 non-null  int64 \n",
            " 3   PATIENT_TYPE          1048575 non-null  int64 \n",
            " 4   DATE_DIED             1048575 non-null  object\n",
            " 5   INTUBED               1048575 non-null  int64 \n",
            " 6   PNEUMONIA             1048575 non-null  int64 \n",
            " 7   AGE                   1048575 non-null  int64 \n",
            " 8   PREGNANT              1048575 non-null  int64 \n",
            " 9   DIABETES              1048575 non-null  int64 \n",
            " 10  COPD                  1048575 non-null  int64 \n",
            " 11  ASTHMA                1048575 non-null  int64 \n",
            " 12  INMSUPR               1048575 non-null  int64 \n",
            " 13  HIPERTENSION          1048575 non-null  int64 \n",
            " 14  OTHER_DISEASE         1048575 non-null  int64 \n",
            " 15  CARDIOVASCULAR        1048575 non-null  int64 \n",
            " 16  OBESITY               1048575 non-null  int64 \n",
            " 17  RENAL_CHRONIC         1048575 non-null  int64 \n",
            " 18  TOBACCO               1048575 non-null  int64 \n",
            " 19  CLASIFFICATION_FINAL  1048575 non-null  int64 \n",
            " 20  ICU                   1048575 non-null  int64 \n",
            "dtypes: int64(20), object(1)\n",
            "memory usage: 168.0+ MB\n"
          ]
        }
      ]
    },
    {
      "cell_type": "code",
      "source": [
        "df.describe()"
      ],
      "metadata": {
        "id": "wbFhgJNlUpl1",
        "colab": {
          "base_uri": "https://localhost:8080/",
          "height": 364
        },
        "outputId": "3d805a27-098f-4d37-d95a-da653d0b5d47"
      },
      "execution_count": 25,
      "outputs": [
        {
          "output_type": "execute_result",
          "data": {
            "text/plain": [
              "              USMER  MEDICAL_UNIT           SEX  PATIENT_TYPE       INTUBED  \\\n",
              "count  1.048575e+06  1.048575e+06  1.048575e+06  1.048575e+06  1.048575e+06   \n",
              "mean   1.632194e+00  8.980565e+00  1.499259e+00  1.190765e+00  7.952288e+01   \n",
              "std    4.822084e-01  3.723278e+00  4.999997e-01  3.929041e-01  3.686889e+01   \n",
              "min    1.000000e+00  1.000000e+00  1.000000e+00  1.000000e+00  1.000000e+00   \n",
              "25%    1.000000e+00  4.000000e+00  1.000000e+00  1.000000e+00  9.700000e+01   \n",
              "50%    2.000000e+00  1.200000e+01  1.000000e+00  1.000000e+00  9.700000e+01   \n",
              "75%    2.000000e+00  1.200000e+01  2.000000e+00  1.000000e+00  9.700000e+01   \n",
              "max    2.000000e+00  1.300000e+01  2.000000e+00  2.000000e+00  9.900000e+01   \n",
              "\n",
              "          PNEUMONIA           AGE      PREGNANT      DIABETES          COPD  \\\n",
              "count  1.048575e+06  1.048575e+06  1.048575e+06  1.048575e+06  1.048575e+06   \n",
              "mean   3.346831e+00  4.179410e+01  4.976558e+01  2.186404e+00  2.260569e+00   \n",
              "std    1.191288e+01  1.690739e+01  4.751073e+01  5.424242e+00  5.132258e+00   \n",
              "min    1.000000e+00  0.000000e+00  1.000000e+00  1.000000e+00  1.000000e+00   \n",
              "25%    2.000000e+00  3.000000e+01  2.000000e+00  2.000000e+00  2.000000e+00   \n",
              "50%    2.000000e+00  4.000000e+01  9.700000e+01  2.000000e+00  2.000000e+00   \n",
              "75%    2.000000e+00  5.300000e+01  9.700000e+01  2.000000e+00  2.000000e+00   \n",
              "max    9.900000e+01  1.210000e+02  9.800000e+01  9.800000e+01  9.800000e+01   \n",
              "\n",
              "             ASTHMA       INMSUPR  HIPERTENSION  OTHER_DISEASE  \\\n",
              "count  1.048575e+06  1.048575e+06  1.048575e+06   1.048575e+06   \n",
              "mean   2.242626e+00  2.298132e+00  2.128989e+00   2.435143e+00   \n",
              "std    5.114089e+00  5.462843e+00  5.236397e+00   6.646676e+00   \n",
              "min    1.000000e+00  1.000000e+00  1.000000e+00   1.000000e+00   \n",
              "25%    2.000000e+00  2.000000e+00  2.000000e+00   2.000000e+00   \n",
              "50%    2.000000e+00  2.000000e+00  2.000000e+00   2.000000e+00   \n",
              "75%    2.000000e+00  2.000000e+00  2.000000e+00   2.000000e+00   \n",
              "max    9.800000e+01  9.800000e+01  9.800000e+01   9.800000e+01   \n",
              "\n",
              "       CARDIOVASCULAR       OBESITY  RENAL_CHRONIC       TOBACCO  \\\n",
              "count    1.048575e+06  1.048575e+06   1.048575e+06  1.048575e+06   \n",
              "mean     2.261810e+00  2.125176e+00   2.257180e+00  2.214333e+00   \n",
              "std      5.194850e+00  5.175445e+00   5.135354e+00  5.323097e+00   \n",
              "min      1.000000e+00  1.000000e+00   1.000000e+00  1.000000e+00   \n",
              "25%      2.000000e+00  2.000000e+00   2.000000e+00  2.000000e+00   \n",
              "50%      2.000000e+00  2.000000e+00   2.000000e+00  2.000000e+00   \n",
              "75%      2.000000e+00  2.000000e+00   2.000000e+00  2.000000e+00   \n",
              "max      9.800000e+01  9.800000e+01   9.800000e+01  9.800000e+01   \n",
              "\n",
              "       CLASIFFICATION_FINAL           ICU  \n",
              "count          1.048575e+06  1.048575e+06  \n",
              "mean           5.305653e+00  7.955397e+01  \n",
              "std            1.881165e+00  3.682307e+01  \n",
              "min            1.000000e+00  1.000000e+00  \n",
              "25%            3.000000e+00  9.700000e+01  \n",
              "50%            6.000000e+00  9.700000e+01  \n",
              "75%            7.000000e+00  9.700000e+01  \n",
              "max            7.000000e+00  9.900000e+01  "
            ],
            "text/html": [
              "\n",
              "  <div id=\"df-d2ae3532-673b-4b81-85e9-fb366f4eb04f\">\n",
              "    <div class=\"colab-df-container\">\n",
              "      <div>\n",
              "<style scoped>\n",
              "    .dataframe tbody tr th:only-of-type {\n",
              "        vertical-align: middle;\n",
              "    }\n",
              "\n",
              "    .dataframe tbody tr th {\n",
              "        vertical-align: top;\n",
              "    }\n",
              "\n",
              "    .dataframe thead th {\n",
              "        text-align: right;\n",
              "    }\n",
              "</style>\n",
              "<table border=\"1\" class=\"dataframe\">\n",
              "  <thead>\n",
              "    <tr style=\"text-align: right;\">\n",
              "      <th></th>\n",
              "      <th>USMER</th>\n",
              "      <th>MEDICAL_UNIT</th>\n",
              "      <th>SEX</th>\n",
              "      <th>PATIENT_TYPE</th>\n",
              "      <th>INTUBED</th>\n",
              "      <th>PNEUMONIA</th>\n",
              "      <th>AGE</th>\n",
              "      <th>PREGNANT</th>\n",
              "      <th>DIABETES</th>\n",
              "      <th>COPD</th>\n",
              "      <th>ASTHMA</th>\n",
              "      <th>INMSUPR</th>\n",
              "      <th>HIPERTENSION</th>\n",
              "      <th>OTHER_DISEASE</th>\n",
              "      <th>CARDIOVASCULAR</th>\n",
              "      <th>OBESITY</th>\n",
              "      <th>RENAL_CHRONIC</th>\n",
              "      <th>TOBACCO</th>\n",
              "      <th>CLASIFFICATION_FINAL</th>\n",
              "      <th>ICU</th>\n",
              "    </tr>\n",
              "  </thead>\n",
              "  <tbody>\n",
              "    <tr>\n",
              "      <th>count</th>\n",
              "      <td>1.048575e+06</td>\n",
              "      <td>1.048575e+06</td>\n",
              "      <td>1.048575e+06</td>\n",
              "      <td>1.048575e+06</td>\n",
              "      <td>1.048575e+06</td>\n",
              "      <td>1.048575e+06</td>\n",
              "      <td>1.048575e+06</td>\n",
              "      <td>1.048575e+06</td>\n",
              "      <td>1.048575e+06</td>\n",
              "      <td>1.048575e+06</td>\n",
              "      <td>1.048575e+06</td>\n",
              "      <td>1.048575e+06</td>\n",
              "      <td>1.048575e+06</td>\n",
              "      <td>1.048575e+06</td>\n",
              "      <td>1.048575e+06</td>\n",
              "      <td>1.048575e+06</td>\n",
              "      <td>1.048575e+06</td>\n",
              "      <td>1.048575e+06</td>\n",
              "      <td>1.048575e+06</td>\n",
              "      <td>1.048575e+06</td>\n",
              "    </tr>\n",
              "    <tr>\n",
              "      <th>mean</th>\n",
              "      <td>1.632194e+00</td>\n",
              "      <td>8.980565e+00</td>\n",
              "      <td>1.499259e+00</td>\n",
              "      <td>1.190765e+00</td>\n",
              "      <td>7.952288e+01</td>\n",
              "      <td>3.346831e+00</td>\n",
              "      <td>4.179410e+01</td>\n",
              "      <td>4.976558e+01</td>\n",
              "      <td>2.186404e+00</td>\n",
              "      <td>2.260569e+00</td>\n",
              "      <td>2.242626e+00</td>\n",
              "      <td>2.298132e+00</td>\n",
              "      <td>2.128989e+00</td>\n",
              "      <td>2.435143e+00</td>\n",
              "      <td>2.261810e+00</td>\n",
              "      <td>2.125176e+00</td>\n",
              "      <td>2.257180e+00</td>\n",
              "      <td>2.214333e+00</td>\n",
              "      <td>5.305653e+00</td>\n",
              "      <td>7.955397e+01</td>\n",
              "    </tr>\n",
              "    <tr>\n",
              "      <th>std</th>\n",
              "      <td>4.822084e-01</td>\n",
              "      <td>3.723278e+00</td>\n",
              "      <td>4.999997e-01</td>\n",
              "      <td>3.929041e-01</td>\n",
              "      <td>3.686889e+01</td>\n",
              "      <td>1.191288e+01</td>\n",
              "      <td>1.690739e+01</td>\n",
              "      <td>4.751073e+01</td>\n",
              "      <td>5.424242e+00</td>\n",
              "      <td>5.132258e+00</td>\n",
              "      <td>5.114089e+00</td>\n",
              "      <td>5.462843e+00</td>\n",
              "      <td>5.236397e+00</td>\n",
              "      <td>6.646676e+00</td>\n",
              "      <td>5.194850e+00</td>\n",
              "      <td>5.175445e+00</td>\n",
              "      <td>5.135354e+00</td>\n",
              "      <td>5.323097e+00</td>\n",
              "      <td>1.881165e+00</td>\n",
              "      <td>3.682307e+01</td>\n",
              "    </tr>\n",
              "    <tr>\n",
              "      <th>min</th>\n",
              "      <td>1.000000e+00</td>\n",
              "      <td>1.000000e+00</td>\n",
              "      <td>1.000000e+00</td>\n",
              "      <td>1.000000e+00</td>\n",
              "      <td>1.000000e+00</td>\n",
              "      <td>1.000000e+00</td>\n",
              "      <td>0.000000e+00</td>\n",
              "      <td>1.000000e+00</td>\n",
              "      <td>1.000000e+00</td>\n",
              "      <td>1.000000e+00</td>\n",
              "      <td>1.000000e+00</td>\n",
              "      <td>1.000000e+00</td>\n",
              "      <td>1.000000e+00</td>\n",
              "      <td>1.000000e+00</td>\n",
              "      <td>1.000000e+00</td>\n",
              "      <td>1.000000e+00</td>\n",
              "      <td>1.000000e+00</td>\n",
              "      <td>1.000000e+00</td>\n",
              "      <td>1.000000e+00</td>\n",
              "      <td>1.000000e+00</td>\n",
              "    </tr>\n",
              "    <tr>\n",
              "      <th>25%</th>\n",
              "      <td>1.000000e+00</td>\n",
              "      <td>4.000000e+00</td>\n",
              "      <td>1.000000e+00</td>\n",
              "      <td>1.000000e+00</td>\n",
              "      <td>9.700000e+01</td>\n",
              "      <td>2.000000e+00</td>\n",
              "      <td>3.000000e+01</td>\n",
              "      <td>2.000000e+00</td>\n",
              "      <td>2.000000e+00</td>\n",
              "      <td>2.000000e+00</td>\n",
              "      <td>2.000000e+00</td>\n",
              "      <td>2.000000e+00</td>\n",
              "      <td>2.000000e+00</td>\n",
              "      <td>2.000000e+00</td>\n",
              "      <td>2.000000e+00</td>\n",
              "      <td>2.000000e+00</td>\n",
              "      <td>2.000000e+00</td>\n",
              "      <td>2.000000e+00</td>\n",
              "      <td>3.000000e+00</td>\n",
              "      <td>9.700000e+01</td>\n",
              "    </tr>\n",
              "    <tr>\n",
              "      <th>50%</th>\n",
              "      <td>2.000000e+00</td>\n",
              "      <td>1.200000e+01</td>\n",
              "      <td>1.000000e+00</td>\n",
              "      <td>1.000000e+00</td>\n",
              "      <td>9.700000e+01</td>\n",
              "      <td>2.000000e+00</td>\n",
              "      <td>4.000000e+01</td>\n",
              "      <td>9.700000e+01</td>\n",
              "      <td>2.000000e+00</td>\n",
              "      <td>2.000000e+00</td>\n",
              "      <td>2.000000e+00</td>\n",
              "      <td>2.000000e+00</td>\n",
              "      <td>2.000000e+00</td>\n",
              "      <td>2.000000e+00</td>\n",
              "      <td>2.000000e+00</td>\n",
              "      <td>2.000000e+00</td>\n",
              "      <td>2.000000e+00</td>\n",
              "      <td>2.000000e+00</td>\n",
              "      <td>6.000000e+00</td>\n",
              "      <td>9.700000e+01</td>\n",
              "    </tr>\n",
              "    <tr>\n",
              "      <th>75%</th>\n",
              "      <td>2.000000e+00</td>\n",
              "      <td>1.200000e+01</td>\n",
              "      <td>2.000000e+00</td>\n",
              "      <td>1.000000e+00</td>\n",
              "      <td>9.700000e+01</td>\n",
              "      <td>2.000000e+00</td>\n",
              "      <td>5.300000e+01</td>\n",
              "      <td>9.700000e+01</td>\n",
              "      <td>2.000000e+00</td>\n",
              "      <td>2.000000e+00</td>\n",
              "      <td>2.000000e+00</td>\n",
              "      <td>2.000000e+00</td>\n",
              "      <td>2.000000e+00</td>\n",
              "      <td>2.000000e+00</td>\n",
              "      <td>2.000000e+00</td>\n",
              "      <td>2.000000e+00</td>\n",
              "      <td>2.000000e+00</td>\n",
              "      <td>2.000000e+00</td>\n",
              "      <td>7.000000e+00</td>\n",
              "      <td>9.700000e+01</td>\n",
              "    </tr>\n",
              "    <tr>\n",
              "      <th>max</th>\n",
              "      <td>2.000000e+00</td>\n",
              "      <td>1.300000e+01</td>\n",
              "      <td>2.000000e+00</td>\n",
              "      <td>2.000000e+00</td>\n",
              "      <td>9.900000e+01</td>\n",
              "      <td>9.900000e+01</td>\n",
              "      <td>1.210000e+02</td>\n",
              "      <td>9.800000e+01</td>\n",
              "      <td>9.800000e+01</td>\n",
              "      <td>9.800000e+01</td>\n",
              "      <td>9.800000e+01</td>\n",
              "      <td>9.800000e+01</td>\n",
              "      <td>9.800000e+01</td>\n",
              "      <td>9.800000e+01</td>\n",
              "      <td>9.800000e+01</td>\n",
              "      <td>9.800000e+01</td>\n",
              "      <td>9.800000e+01</td>\n",
              "      <td>9.800000e+01</td>\n",
              "      <td>7.000000e+00</td>\n",
              "      <td>9.900000e+01</td>\n",
              "    </tr>\n",
              "  </tbody>\n",
              "</table>\n",
              "</div>\n",
              "      <button class=\"colab-df-convert\" onclick=\"convertToInteractive('df-d2ae3532-673b-4b81-85e9-fb366f4eb04f')\"\n",
              "              title=\"Convert this dataframe to an interactive table.\"\n",
              "              style=\"display:none;\">\n",
              "        \n",
              "  <svg xmlns=\"http://www.w3.org/2000/svg\" height=\"24px\"viewBox=\"0 0 24 24\"\n",
              "       width=\"24px\">\n",
              "    <path d=\"M0 0h24v24H0V0z\" fill=\"none\"/>\n",
              "    <path d=\"M18.56 5.44l.94 2.06.94-2.06 2.06-.94-2.06-.94-.94-2.06-.94 2.06-2.06.94zm-11 1L8.5 8.5l.94-2.06 2.06-.94-2.06-.94L8.5 2.5l-.94 2.06-2.06.94zm10 10l.94 2.06.94-2.06 2.06-.94-2.06-.94-.94-2.06-.94 2.06-2.06.94z\"/><path d=\"M17.41 7.96l-1.37-1.37c-.4-.4-.92-.59-1.43-.59-.52 0-1.04.2-1.43.59L10.3 9.45l-7.72 7.72c-.78.78-.78 2.05 0 2.83L4 21.41c.39.39.9.59 1.41.59.51 0 1.02-.2 1.41-.59l7.78-7.78 2.81-2.81c.8-.78.8-2.07 0-2.86zM5.41 20L4 18.59l7.72-7.72 1.47 1.35L5.41 20z\"/>\n",
              "  </svg>\n",
              "      </button>\n",
              "      \n",
              "  <style>\n",
              "    .colab-df-container {\n",
              "      display:flex;\n",
              "      flex-wrap:wrap;\n",
              "      gap: 12px;\n",
              "    }\n",
              "\n",
              "    .colab-df-convert {\n",
              "      background-color: #E8F0FE;\n",
              "      border: none;\n",
              "      border-radius: 50%;\n",
              "      cursor: pointer;\n",
              "      display: none;\n",
              "      fill: #1967D2;\n",
              "      height: 32px;\n",
              "      padding: 0 0 0 0;\n",
              "      width: 32px;\n",
              "    }\n",
              "\n",
              "    .colab-df-convert:hover {\n",
              "      background-color: #E2EBFA;\n",
              "      box-shadow: 0px 1px 2px rgba(60, 64, 67, 0.3), 0px 1px 3px 1px rgba(60, 64, 67, 0.15);\n",
              "      fill: #174EA6;\n",
              "    }\n",
              "\n",
              "    [theme=dark] .colab-df-convert {\n",
              "      background-color: #3B4455;\n",
              "      fill: #D2E3FC;\n",
              "    }\n",
              "\n",
              "    [theme=dark] .colab-df-convert:hover {\n",
              "      background-color: #434B5C;\n",
              "      box-shadow: 0px 1px 3px 1px rgba(0, 0, 0, 0.15);\n",
              "      filter: drop-shadow(0px 1px 2px rgba(0, 0, 0, 0.3));\n",
              "      fill: #FFFFFF;\n",
              "    }\n",
              "  </style>\n",
              "\n",
              "      <script>\n",
              "        const buttonEl =\n",
              "          document.querySelector('#df-d2ae3532-673b-4b81-85e9-fb366f4eb04f button.colab-df-convert');\n",
              "        buttonEl.style.display =\n",
              "          google.colab.kernel.accessAllowed ? 'block' : 'none';\n",
              "\n",
              "        async function convertToInteractive(key) {\n",
              "          const element = document.querySelector('#df-d2ae3532-673b-4b81-85e9-fb366f4eb04f');\n",
              "          const dataTable =\n",
              "            await google.colab.kernel.invokeFunction('convertToInteractive',\n",
              "                                                     [key], {});\n",
              "          if (!dataTable) return;\n",
              "\n",
              "          const docLinkHtml = 'Like what you see? Visit the ' +\n",
              "            '<a target=\"_blank\" href=https://colab.research.google.com/notebooks/data_table.ipynb>data table notebook</a>'\n",
              "            + ' to learn more about interactive tables.';\n",
              "          element.innerHTML = '';\n",
              "          dataTable['output_type'] = 'display_data';\n",
              "          await google.colab.output.renderOutput(dataTable, element);\n",
              "          const docLink = document.createElement('div');\n",
              "          docLink.innerHTML = docLinkHtml;\n",
              "          element.appendChild(docLink);\n",
              "        }\n",
              "      </script>\n",
              "    </div>\n",
              "  </div>\n",
              "  "
            ]
          },
          "metadata": {},
          "execution_count": 25
        }
      ]
    },
    {
      "cell_type": "code",
      "source": [
        "df.isnull().sum()"
      ],
      "metadata": {
        "id": "ILVA_IiBUyr1",
        "colab": {
          "base_uri": "https://localhost:8080/"
        },
        "outputId": "4f7d7dab-8859-4dbe-8006-df0e66c3a525"
      },
      "execution_count": 26,
      "outputs": [
        {
          "output_type": "execute_result",
          "data": {
            "text/plain": [
              "USMER                   0\n",
              "MEDICAL_UNIT            0\n",
              "SEX                     0\n",
              "PATIENT_TYPE            0\n",
              "DATE_DIED               0\n",
              "INTUBED                 0\n",
              "PNEUMONIA               0\n",
              "AGE                     0\n",
              "PREGNANT                0\n",
              "DIABETES                0\n",
              "COPD                    0\n",
              "ASTHMA                  0\n",
              "INMSUPR                 0\n",
              "HIPERTENSION            0\n",
              "OTHER_DISEASE           0\n",
              "CARDIOVASCULAR          0\n",
              "OBESITY                 0\n",
              "RENAL_CHRONIC           0\n",
              "TOBACCO                 0\n",
              "CLASIFFICATION_FINAL    0\n",
              "ICU                     0\n",
              "dtype: int64"
            ]
          },
          "metadata": {},
          "execution_count": 26
        }
      ]
    },
    {
      "cell_type": "code",
      "source": [
        "import seaborn as sns\n",
        "plt.figure(figsize=(16,16))\n",
        "sns.heatmap(data=df.corr(), annot=True, fmt=\".2f\");"
      ],
      "metadata": {
        "id": "bweaiPb1lJzb",
        "colab": {
          "base_uri": "https://localhost:8080/",
          "height": 1000
        },
        "outputId": "35138841-37fa-444c-9261-1d03db965a87"
      },
      "execution_count": 27,
      "outputs": [
        {
          "output_type": "display_data",
          "data": {
            "text/plain": [
              "<Figure size 1152x1152 with 2 Axes>"
            ],
            "image/png": "[encoded data removed]"
          },
          "metadata": {
            "needs_background": "light"
          }
        }
      ]
    },
    {
      "cell_type": "code",
      "source": [
        "for i in df.columns:\n",
        "  print(f\"Column {i} unique values:\\n\")\n",
        "  print(df[i].unique())\n",
        "  print(\"\\n --------------------- \\n\")\n"
      ],
      "metadata": {
        "id": "a8tLAaieU2Nd",
        "colab": {
          "base_uri": "https://localhost:8080/"
        },
        "outputId": "bfc32047-f66a-4e0c-abdc-ea7d62372d8c"
      },
      "execution_count": 28,
      "outputs": [
        {
          "output_type": "stream",
          "name": "stdout",
          "text": [
            "Column USMER unique values:\n",
            "\n",
            "[2 1]\n",
            "\n",
            " --------------------- \n",
            "\n",
            "Column MEDICAL_UNIT unique values:\n",
            "\n",
            "[ 1  2  3  4  5  6  7  8  9 10 11 12 13]\n",
            "\n",
            " --------------------- \n",
            "\n",
            "Column SEX unique values:\n",
            "\n",
            "[1 2]\n",
            "\n",
            " --------------------- \n",
            "\n",
            "Column PATIENT_TYPE unique values:\n",
            "\n",
            "[1 2]\n",
            "\n",
            " --------------------- \n",
            "\n",
            "Column DATE_DIED unique values:\n",
            "\n",
            "['03/05/2020' '03/06/2020' '09/06/2020' '12/06/2020' '21/06/2020'\n",
            " '9999-99-99' '26/02/2020' '05/04/2020' '08/05/2020' '20/05/2020'\n",
            " '17/07/2020' '13/01/2020' '22/01/2020' '29/01/2020' '13/02/2020'\n",
            " '18/02/2020' '19/02/2020' '20/02/2020' '24/02/2020' '04/03/2020'\n",
            " '07/03/2020' '12/03/2020' '14/03/2020' '18/03/2020' '27/03/2020'\n",
            " '28/03/2020' '29/03/2020' '02/04/2020' '06/04/2020' '07/04/2020'\n",
            " '08/04/2020' '09/04/2020' '10/04/2020' '11/04/2020' '12/04/2020'\n",
            " '13/04/2020' '14/04/2020' '15/04/2020' '16/04/2020' '17/04/2020'\n",
            " '18/04/2020' '20/04/2020' '21/04/2020' '22/04/2020' '23/04/2020'\n",
            " '24/04/2020' '25/04/2020' '26/04/2020' '27/04/2020' '28/04/2020'\n",
            " '29/04/2020' '30/04/2020' '01/05/2020' '02/05/2020' '04/05/2020'\n",
            " '05/05/2020' '06/05/2020' '07/05/2020' '09/05/2020' '10/05/2020'\n",
            " '11/05/2020' '12/05/2020' '13/05/2020' '14/05/2020' '15/05/2020'\n",
            " '16/05/2020' '17/05/2020' '18/05/2020' '19/05/2020' '21/05/2020'\n",
            " '22/05/2020' '23/05/2020' '24/05/2020' '25/05/2020' '26/05/2020'\n",
            " '27/05/2020' '28/05/2020' '29/05/2020' '30/05/2020' '31/05/2020'\n",
            " '01/06/2020' '02/06/2020' '04/06/2020' '05/06/2020' '06/06/2020'\n",
            " '07/06/2020' '08/06/2020' '10/06/2020' '11/06/2020' '13/06/2020'\n",
            " '14/06/2020' '15/06/2020' '16/06/2020' '17/06/2020' '18/06/2020'\n",
            " '19/06/2020' '20/06/2020' '22/06/2020' '23/06/2020' '24/06/2020'\n",
            " '25/06/2020' '26/06/2020' '27/06/2020' '28/06/2020' '29/06/2020'\n",
            " '30/06/2020' '01/07/2020' '02/07/2020' '03/07/2020' '04/07/2020'\n",
            " '05/07/2020' '06/07/2020' '07/07/2020' '08/07/2020' '09/07/2020'\n",
            " '10/07/2020' '11/07/2020' '12/07/2020' '13/07/2020' '14/07/2020'\n",
            " '15/07/2020' '16/07/2020' '18/07/2020' '19/07/2020' '20/07/2020'\n",
            " '21/07/2020' '22/07/2020' '23/07/2020' '24/07/2020' '25/07/2020'\n",
            " '26/07/2020' '27/07/2020' '28/07/2020' '29/07/2020' '30/07/2020'\n",
            " '31/07/2020' '01/08/2020' '02/08/2020' '03/08/2020' '04/08/2020'\n",
            " '05/08/2020' '06/08/2020' '07/08/2020' '08/08/2020' '09/08/2020'\n",
            " '10/08/2020' '12/08/2020' '14/08/2020' '17/08/2020' '18/08/2020'\n",
            " '19/08/2020' '20/08/2020' '25/08/2020' '02/09/2020' '13/09/2020'\n",
            " '28/09/2020' '27/10/2020' '08/12/2020' '17/12/2020' '27/04/2021'\n",
            " '01/05/2021' '02/01/2020' '03/01/2020' '04/01/2020' '05/01/2020'\n",
            " '06/01/2020' '07/01/2020' '08/01/2020' '09/01/2020' '10/01/2020'\n",
            " '11/01/2020' '12/01/2020' '14/01/2020' '15/01/2020' '16/01/2020'\n",
            " '17/01/2020' '18/01/2020' '19/01/2020' '20/01/2020' '21/01/2020'\n",
            " '23/01/2020' '24/01/2020' '25/01/2020' '26/01/2020' '27/01/2020'\n",
            " '28/01/2020' '30/01/2020' '31/01/2020' '01/02/2020' '02/02/2020'\n",
            " '03/02/2020' '04/02/2020' '05/02/2020' '06/02/2020' '07/02/2020'\n",
            " '08/02/2020' '09/02/2020' '10/02/2020' '11/02/2020' '12/02/2020'\n",
            " '14/02/2020' '15/02/2020' '16/02/2020' '17/02/2020' '21/02/2020'\n",
            " '22/02/2020' '23/02/2020' '25/02/2020' '27/02/2020' '28/02/2020'\n",
            " '29/02/2020' '01/03/2020' '02/03/2020' '03/03/2020' '05/03/2020'\n",
            " '06/03/2020' '08/03/2020' '09/03/2020' '10/03/2020' '11/03/2020'\n",
            " '13/03/2020' '15/03/2020' '16/03/2020' '17/03/2020' '19/03/2020'\n",
            " '20/03/2020' '21/03/2020' '22/03/2020' '23/03/2020' '24/03/2020'\n",
            " '25/03/2020' '26/03/2020' '30/03/2020' '31/03/2020' '01/04/2020'\n",
            " '03/04/2020' '04/04/2020' '19/04/2020' '11/08/2020' '13/08/2020'\n",
            " '15/08/2020' '16/08/2020' '21/08/2020' '22/08/2020' '23/08/2020'\n",
            " '24/08/2020' '26/08/2020' '27/08/2020' '28/08/2020' '29/08/2020'\n",
            " '30/08/2020' '31/08/2020' '01/09/2020' '03/09/2020' '04/09/2020'\n",
            " '05/09/2020' '06/09/2020' '07/09/2020' '08/09/2020' '09/09/2020'\n",
            " '11/09/2020' '14/09/2020' '16/09/2020' '17/09/2020' '18/09/2020'\n",
            " '19/09/2020' '20/09/2020' '21/09/2020' '22/09/2020' '23/09/2020'\n",
            " '24/09/2020' '27/09/2020' '29/09/2020' '04/10/2020' '05/10/2020'\n",
            " '12/10/2020' '14/10/2020' '16/10/2020' '18/10/2020' '20/10/2020'\n",
            " '23/10/2020' '25/10/2020' '26/10/2020' '30/10/2020' '04/11/2020'\n",
            " '06/11/2020' '08/11/2020' '12/11/2020' '14/11/2020' '15/11/2020'\n",
            " '23/11/2020' '24/11/2020' '05/12/2020' '30/12/2020' '10/01/2021'\n",
            " '14/01/2021' '15/01/2021' '19/01/2021' '20/01/2021' '21/01/2021'\n",
            " '24/01/2021' '25/01/2021' '27/01/2021' '28/01/2021' '31/01/2021'\n",
            " '01/02/2021' '03/02/2021' '04/02/2021' '05/02/2021' '06/02/2021'\n",
            " '08/02/2021' '10/02/2021' '11/02/2021' '12/02/2021' '18/02/2021'\n",
            " '20/02/2021' '24/02/2021' '25/02/2021' '26/02/2021' '27/02/2021'\n",
            " '07/03/2021' '08/03/2021' '29/03/2021' '30/03/2021' '01/04/2021'\n",
            " '12/04/2021' '14/04/2021' '15/04/2021' '16/04/2021' '17/04/2021'\n",
            " '18/04/2021' '25/04/2021' '26/04/2021' '28/04/2021' '29/04/2021'\n",
            " '30/04/2021' '02/05/2021' '18/12/2020' '17/10/2020' '07/12/2020'\n",
            " '16/12/2020' '19/12/2020' '06/01/2021' '17/02/2021' '16/03/2021'\n",
            " '17/03/2021' '18/03/2021' '20/03/2021' '22/03/2021' '23/03/2021'\n",
            " '24/03/2021' '09/04/2021' '10/04/2021' '19/04/2021' '24/04/2021'\n",
            " '10/09/2020' '31/10/2020' '15/12/2020' '24/12/2020' '11/01/2021'\n",
            " '23/02/2021' '03/04/2021' '20/04/2021' '26/12/2020' '19/03/2021'\n",
            " '12/09/2020' '15/09/2020' '25/09/2020' '06/10/2020' '07/10/2020'\n",
            " '10/10/2020' '13/10/2020' '22/10/2020' '22/11/2020' '25/11/2020'\n",
            " '27/11/2020' '03/12/2020' '20/12/2020' '22/12/2020' '25/12/2020'\n",
            " '28/12/2020' '01/01/2021' '02/01/2021' '07/01/2021' '22/01/2021'\n",
            " '26/01/2021' '07/02/2021' '14/02/2021' '19/02/2021' '22/02/2021'\n",
            " '10/03/2021' '11/03/2021' '14/03/2021' '26/03/2021' '27/03/2021'\n",
            " '28/03/2021' '31/03/2021' '02/04/2021' '06/04/2021' '13/04/2021'\n",
            " '22/04/2021']\n",
            "\n",
            " --------------------- \n",
            "\n",
            "Column INTUBED unique values:\n",
            "\n",
            "[97  1  2 99]\n",
            "\n",
            " --------------------- \n",
            "\n",
            "Column PNEUMONIA unique values:\n",
            "\n",
            "[ 1  2 99]\n",
            "\n",
            " --------------------- \n",
            "\n",
            "Column AGE unique values:\n",
            "\n",
            "[ 65  72  55  53  68  40  64  37  25  38  24  30  48  23  80  61  54  59\n",
            "  45  26  32  49  39  27  57  20  56  47  50  46  43  28  33  16  62  58\n",
            "  36  44  66  52  51  35  19  90  34  22  29  14  31  42  15   1   0  17\n",
            "  41   2  10  12  13   4   7   6   8  60   5  63  75  81  67  18  70  88\n",
            "  85  92  73  74  78  76  82  77  86  71  95  87  83  84  79  69  89   3\n",
            "  97  93 100  91  21 103  11   9  94  96 101 107 102  98  99 109 119 116\n",
            " 105 104 111 114 120 106 108 110 118 117 121 115 113]\n",
            "\n",
            " --------------------- \n",
            "\n",
            "Column PREGNANT unique values:\n",
            "\n",
            "[ 2 97 98  1]\n",
            "\n",
            " --------------------- \n",
            "\n",
            "Column DIABETES unique values:\n",
            "\n",
            "[ 2  1 98]\n",
            "\n",
            " --------------------- \n",
            "\n",
            "Column COPD unique values:\n",
            "\n",
            "[ 2  1 98]\n",
            "\n",
            " --------------------- \n",
            "\n",
            "Column ASTHMA unique values:\n",
            "\n",
            "[ 2  1 98]\n",
            "\n",
            " --------------------- \n",
            "\n",
            "Column INMSUPR unique values:\n",
            "\n",
            "[ 2  1 98]\n",
            "\n",
            " --------------------- \n",
            "\n",
            "Column HIPERTENSION unique values:\n",
            "\n",
            "[ 1  2 98]\n",
            "\n",
            " --------------------- \n",
            "\n",
            "Column OTHER_DISEASE unique values:\n",
            "\n",
            "[ 2  1 98]\n",
            "\n",
            " --------------------- \n",
            "\n",
            "Column CARDIOVASCULAR unique values:\n",
            "\n",
            "[ 2  1 98]\n",
            "\n",
            " --------------------- \n",
            "\n",
            "Column OBESITY unique values:\n",
            "\n",
            "[ 2  1 98]\n",
            "\n",
            " --------------------- \n",
            "\n",
            "Column RENAL_CHRONIC unique values:\n",
            "\n",
            "[ 2  1 98]\n",
            "\n",
            " --------------------- \n",
            "\n",
            "Column TOBACCO unique values:\n",
            "\n",
            "[ 2  1 98]\n",
            "\n",
            " --------------------- \n",
            "\n",
            "Column CLASIFFICATION_FINAL unique values:\n",
            "\n",
            "[3 5 7 6 1 2 4]\n",
            "\n",
            " --------------------- \n",
            "\n",
            "Column ICU unique values:\n",
            "\n",
            "[97  2  1 99]\n",
            "\n",
            " --------------------- \n",
            "\n"
          ]
        }
      ]
    },
    {
      "cell_type": "markdown",
      "source": [
        "### Changes in data\n",
        "Drop INTUBED and ICU this columns have high correlaction with PATIENT_TYPE as we will use only PATIENT_TYPE\n",
        "\n",
        "From Diseases we will choose this that can cause death or with COVID lead to it:\n",
        "- COPD\n",
        "- ASTHMA\n",
        "- RENTAL_CHRONIC\n",
        "- TABACCO\n",
        "\n",
        "Split columns: \n",
        "- DATE_DIED into Living where:\n",
        "  - '1' will be if is alived,\n",
        "  - '0' if is dead\n",
        "- Pregnant into is_pregnant and cap_pregnancy(capability for pregnancy):\n",
        "  - is_pregnant '1' if is and '0' otherwise\n",
        "  - cap_pregnancy '1' if is and '0' otherwise\n",
        "\n",
        "Changes in data:\n",
        "- Set all 1 -> '0' and 2 -> '0' for convenience\n",
        "- Set all missing data to into is_{} and set value to either '1' if there is data and '0' otherwise.\n"
      ],
      "metadata": {
        "id": "hQkrWNXJWlZP"
      }
    },
    {
      "cell_type": "code",
      "source": [
        "df = pd.read_csv('Covid Data.csv')\n",
        "\n",
        "df[\"Living\"] = [1 if i ==\"9999-99-99\" else 0 for i in df['DATE_DIED']]\n",
        "\n",
        "df[\"is_PREGNANT\"] = [1 if i == 2 else 0 for i in df[\"PREGNANT\"]]\n",
        "df[\"cap_pregnant\"] = [0 if (i==97 or i==98) else 1 for i in df[\"PREGNANT\"]]\n",
        "\n",
        "df[\"is_PNEUMONIA\"] = [0 if i==99 else 1 for i in df[\"PNEUMONIA\"]]\n",
        "df[\"PNEUMONIA\"] = [1 if i==2 else 0 for i in df[\"PNEUMONIA\"]]\n",
        "\n",
        "df[\"is_COPD\"] = [0 if i==98 else 1 for i in df[\"COPD\"]]#\n",
        "df[\"COPD\"] = [1 if i==2 else 0 for i in df[\"COPD\"]]\n",
        "\n",
        "df[\"is_ASTHMA\"] = [0 if i==98 else 1 for i in df[\"ASTHMA\"]]#\n",
        "df[\"ASTHMA\"] = [1 if i==2 else 0 for i in df[\"ASTHMA\"]]\n",
        "\n",
        "df[\"is_RENAL_CHRONIC\"] = [0 if i==98 else 1 for i in df[\"RENAL_CHRONIC\"]]#\n",
        "df[\"RENAL_CHRONIC\"] = [1 if i==2 else 0 for i in df[\"RENAL_CHRONIC\"]]\n",
        "\n",
        "df[\"is_TOBACCO\"] = [0 if i==98 else 1 for i in df[\"TOBACCO\"]]\n",
        "df[\"TOBACCO\"] = [1 if i==2 else 0 for i in df[\"TOBACCO\"]]#\n",
        "\n",
        "df[\"SEX\"] = [1 if i==2 else 0 for i in df[\"SEX\"]]\n",
        "\n",
        "\n",
        "df = df.drop(\"DATE_DIED\", axis=1)\n",
        "df = df.drop(\"PREGNANT\", axis=1)\n",
        "df = df.drop(\"INMSUPR\", axis=1)\n",
        "df = df.drop(\"DIABETES\", axis=1)\n",
        "df = df.drop(\"HIPERTENSION\", axis=1)\n",
        "df = df.drop(\"OTHER_DISEASE\", axis=1)\n",
        "df = df.drop(\"CARDIOVASCULAR\", axis=1)\n",
        "df = df.drop(\"OBESITY\", axis=1)\n",
        "df = df.drop(\"ICU\", axis=1)\n",
        "df = df.drop(\"INTUBED\", axis=1)"
      ],
      "metadata": {
        "id": "zp8BOhs1Wk_g"
      },
      "execution_count": 29,
      "outputs": []
    },
    {
      "cell_type": "code",
      "source": [
        "df.head()"
      ],
      "metadata": {
        "id": "eN2es94xcaJa",
        "colab": {
          "base_uri": "https://localhost:8080/",
          "height": 250
        },
        "outputId": "7149c265-5536-4929-bdcf-45a69bee30cb"
      },
      "execution_count": 30,
      "outputs": [
        {
          "output_type": "execute_result",
          "data": {
            "text/plain": [
              "   USMER  MEDICAL_UNIT  SEX  PATIENT_TYPE  PNEUMONIA  AGE  COPD  ASTHMA  \\\n",
              "0      2             1    0             1          0   65     1       1   \n",
              "1      2             1    1             1          0   72     1       1   \n",
              "2      2             1    1             2          1   55     1       1   \n",
              "3      2             1    0             1          1   53     1       1   \n",
              "4      2             1    1             1          1   68     1       1   \n",
              "\n",
              "   RENAL_CHRONIC  TOBACCO  CLASIFFICATION_FINAL  Living  is_PREGNANT  \\\n",
              "0              1        1                     3       0            1   \n",
              "1              0        1                     5       0            0   \n",
              "2              1        1                     3       0            0   \n",
              "3              1        1                     7       0            1   \n",
              "4              1        1                     3       0            0   \n",
              "\n",
              "   cap_pregnant  is_PNEUMONIA  is_COPD  is_ASTHMA  is_RENAL_CHRONIC  \\\n",
              "0             1             1        1          1                 1   \n",
              "1             0             1        1          1                 1   \n",
              "2             0             1        1          1                 1   \n",
              "3             1             1        1          1                 1   \n",
              "4             0             1        1          1                 1   \n",
              "\n",
              "   is_TOBACCO  \n",
              "0           1  \n",
              "1           1  \n",
              "2           1  \n",
              "3           1  \n",
              "4           1  "
            ],
            "text/html": [
              "\n",
              "  <div id=\"df-3755e4dd-824b-44cc-a720-8b7a0fa509db\">\n",
              "    <div class=\"colab-df-container\">\n",
              "      <div>\n",
              "<style scoped>\n",
              "    .dataframe tbody tr th:only-of-type {\n",
              "        vertical-align: middle;\n",
              "    }\n",
              "\n",
              "    .dataframe tbody tr th {\n",
              "        vertical-align: top;\n",
              "    }\n",
              "\n",
              "    .dataframe thead th {\n",
              "        text-align: right;\n",
              "    }\n",
              "</style>\n",
              "<table border=\"1\" class=\"dataframe\">\n",
              "  <thead>\n",
              "    <tr style=\"text-align: right;\">\n",
              "      <th></th>\n",
              "      <th>USMER</th>\n",
              "      <th>MEDICAL_UNIT</th>\n",
              "      <th>SEX</th>\n",
              "      <th>PATIENT_TYPE</th>\n",
              "      <th>PNEUMONIA</th>\n",
              "      <th>AGE</th>\n",
              "      <th>COPD</th>\n",
              "      <th>ASTHMA</th>\n",
              "      <th>RENAL_CHRONIC</th>\n",
              "      <th>TOBACCO</th>\n",
              "      <th>CLASIFFICATION_FINAL</th>\n",
              "      <th>Living</th>\n",
              "      <th>is_PREGNANT</th>\n",
              "      <th>cap_pregnant</th>\n",
              "      <th>is_PNEUMONIA</th>\n",
              "      <th>is_COPD</th>\n",
              "      <th>is_ASTHMA</th>\n",
              "      <th>is_RENAL_CHRONIC</th>\n",
              "      <th>is_TOBACCO</th>\n",
              "    </tr>\n",
              "  </thead>\n",
              "  <tbody>\n",
              "    <tr>\n",
              "      <th>0</th>\n",
              "      <td>2</td>\n",
              "      <td>1</td>\n",
              "      <td>0</td>\n",
              "      <td>1</td>\n",
              "      <td>0</td>\n",
              "      <td>65</td>\n",
              "      <td>1</td>\n",
              "      <td>1</td>\n",
              "      <td>1</td>\n",
              "      <td>1</td>\n",
              "      <td>3</td>\n",
              "      <td>0</td>\n",
              "      <td>1</td>\n",
              "      <td>1</td>\n",
              "      <td>1</td>\n",
              "      <td>1</td>\n",
              "      <td>1</td>\n",
              "      <td>1</td>\n",
              "      <td>1</td>\n",
              "    </tr>\n",
              "    <tr>\n",
              "      <th>1</th>\n",
              "      <td>2</td>\n",
              "      <td>1</td>\n",
              "      <td>1</td>\n",
              "      <td>1</td>\n",
              "      <td>0</td>\n",
              "      <td>72</td>\n",
              "      <td>1</td>\n",
              "      <td>1</td>\n",
              "      <td>0</td>\n",
              "      <td>1</td>\n",
              "      <td>5</td>\n",
              "      <td>0</td>\n",
              "      <td>0</td>\n",
              "      <td>0</td>\n",
              "      <td>1</td>\n",
              "      <td>1</td>\n",
              "      <td>1</td>\n",
              "      <td>1</td>\n",
              "      <td>1</td>\n",
              "    </tr>\n",
              "    <tr>\n",
              "      <th>2</th>\n",
              "      <td>2</td>\n",
              "      <td>1</td>\n",
              "      <td>1</td>\n",
              "      <td>2</td>\n",
              "      <td>1</td>\n",
              "      <td>55</td>\n",
              "      <td>1</td>\n",
              "      <td>1</td>\n",
              "      <td>1</td>\n",
              "      <td>1</td>\n",
              "      <td>3</td>\n",
              "      <td>0</td>\n",
              "      <td>0</td>\n",
              "      <td>0</td>\n",
              "      <td>1</td>\n",
              "      <td>1</td>\n",
              "      <td>1</td>\n",
              "      <td>1</td>\n",
              "      <td>1</td>\n",
              "    </tr>\n",
              "    <tr>\n",
              "      <th>3</th>\n",
              "      <td>2</td>\n",
              "      <td>1</td>\n",
              "      <td>0</td>\n",
              "      <td>1</td>\n",
              "      <td>1</td>\n",
              "      <td>53</td>\n",
              "      <td>1</td>\n",
              "      <td>1</td>\n",
              "      <td>1</td>\n",
              "      <td>1</td>\n",
              "      <td>7</td>\n",
              "      <td>0</td>\n",
              "      <td>1</td>\n",
              "      <td>1</td>\n",
              "      <td>1</td>\n",
              "      <td>1</td>\n",
              "      <td>1</td>\n",
              "      <td>1</td>\n",
              "      <td>1</td>\n",
              "    </tr>\n",
              "    <tr>\n",
              "      <th>4</th>\n",
              "      <td>2</td>\n",
              "      <td>1</td>\n",
              "      <td>1</td>\n",
              "      <td>1</td>\n",
              "      <td>1</td>\n",
              "      <td>68</td>\n",
              "      <td>1</td>\n",
              "      <td>1</td>\n",
              "      <td>1</td>\n",
              "      <td>1</td>\n",
              "      <td>3</td>\n",
              "      <td>0</td>\n",
              "      <td>0</td>\n",
              "      <td>0</td>\n",
              "      <td>1</td>\n",
              "      <td>1</td>\n",
              "      <td>1</td>\n",
              "      <td>1</td>\n",
              "      <td>1</td>\n",
              "    </tr>\n",
              "  </tbody>\n",
              "</table>\n",
              "</div>\n",
              "      <button class=\"colab-df-convert\" onclick=\"convertToInteractive('df-3755e4dd-824b-44cc-a720-8b7a0fa509db')\"\n",
              "              title=\"Convert this dataframe to an interactive table.\"\n",
              "              style=\"display:none;\">\n",
              "        \n",
              "  <svg xmlns=\"http://www.w3.org/2000/svg\" height=\"24px\"viewBox=\"0 0 24 24\"\n",
              "       width=\"24px\">\n",
              "    <path d=\"M0 0h24v24H0V0z\" fill=\"none\"/>\n",
              "    <path d=\"M18.56 5.44l.94 2.06.94-2.06 2.06-.94-2.06-.94-.94-2.06-.94 2.06-2.06.94zm-11 1L8.5 8.5l.94-2.06 2.06-.94-2.06-.94L8.5 2.5l-.94 2.06-2.06.94zm10 10l.94 2.06.94-2.06 2.06-.94-2.06-.94-.94-2.06-.94 2.06-2.06.94z\"/><path d=\"M17.41 7.96l-1.37-1.37c-.4-.4-.92-.59-1.43-.59-.52 0-1.04.2-1.43.59L10.3 9.45l-7.72 7.72c-.78.78-.78 2.05 0 2.83L4 21.41c.39.39.9.59 1.41.59.51 0 1.02-.2 1.41-.59l7.78-7.78 2.81-2.81c.8-.78.8-2.07 0-2.86zM5.41 20L4 18.59l7.72-7.72 1.47 1.35L5.41 20z\"/>\n",
              "  </svg>\n",
              "      </button>\n",
              "      \n",
              "  <style>\n",
              "    .colab-df-container {\n",
              "      display:flex;\n",
              "      flex-wrap:wrap;\n",
              "      gap: 12px;\n",
              "    }\n",
              "\n",
              "    .colab-df-convert {\n",
              "      background-color: #E8F0FE;\n",
              "      border: none;\n",
              "      border-radius: 50%;\n",
              "      cursor: pointer;\n",
              "      display: none;\n",
              "      fill: #1967D2;\n",
              "      height: 32px;\n",
              "      padding: 0 0 0 0;\n",
              "      width: 32px;\n",
              "    }\n",
              "\n",
              "    .colab-df-convert:hover {\n",
              "      background-color: #E2EBFA;\n",
              "      box-shadow: 0px 1px 2px rgba(60, 64, 67, 0.3), 0px 1px 3px 1px rgba(60, 64, 67, 0.15);\n",
              "      fill: #174EA6;\n",
              "    }\n",
              "\n",
              "    [theme=dark] .colab-df-convert {\n",
              "      background-color: #3B4455;\n",
              "      fill: #D2E3FC;\n",
              "    }\n",
              "\n",
              "    [theme=dark] .colab-df-convert:hover {\n",
              "      background-color: #434B5C;\n",
              "      box-shadow: 0px 1px 3px 1px rgba(0, 0, 0, 0.15);\n",
              "      filter: drop-shadow(0px 1px 2px rgba(0, 0, 0, 0.3));\n",
              "      fill: #FFFFFF;\n",
              "    }\n",
              "  </style>\n",
              "\n",
              "      <script>\n",
              "        const buttonEl =\n",
              "          document.querySelector('#df-3755e4dd-824b-44cc-a720-8b7a0fa509db button.colab-df-convert');\n",
              "        buttonEl.style.display =\n",
              "          google.colab.kernel.accessAllowed ? 'block' : 'none';\n",
              "\n",
              "        async function convertToInteractive(key) {\n",
              "          const element = document.querySelector('#df-3755e4dd-824b-44cc-a720-8b7a0fa509db');\n",
              "          const dataTable =\n",
              "            await google.colab.kernel.invokeFunction('convertToInteractive',\n",
              "                                                     [key], {});\n",
              "          if (!dataTable) return;\n",
              "\n",
              "          const docLinkHtml = 'Like what you see? Visit the ' +\n",
              "            '<a target=\"_blank\" href=https://colab.research.google.com/notebooks/data_table.ipynb>data table notebook</a>'\n",
              "            + ' to learn more about interactive tables.';\n",
              "          element.innerHTML = '';\n",
              "          dataTable['output_type'] = 'display_data';\n",
              "          await google.colab.output.renderOutput(dataTable, element);\n",
              "          const docLink = document.createElement('div');\n",
              "          docLink.innerHTML = docLinkHtml;\n",
              "          element.appendChild(docLink);\n",
              "        }\n",
              "      </script>\n",
              "    </div>\n",
              "  </div>\n",
              "  "
            ]
          },
          "metadata": {},
          "execution_count": 30
        }
      ]
    },
    {
      "cell_type": "markdown",
      "source": [
        "### Wizualizacja danych"
      ],
      "metadata": {
        "id": "_aEc7W_KvrOY"
      }
    },
    {
      "cell_type": "code",
      "source": [
        "fig,ax = plt.subplots(1,1,figsize=(7,7))\n",
        "ax = sns.countplot(df.Living)\n",
        "ax.set_title(\"Living bar\")\n"
      ],
      "metadata": {
        "id": "CkSdeTxvtISw",
        "colab": {
          "base_uri": "https://localhost:8080/",
          "height": 530
        },
        "outputId": "f8d589c2-0324-4c78-f3cb-3677500d1d90"
      },
      "execution_count": 31,
      "outputs": [
        {
          "output_type": "stream",
          "name": "stderr",
          "text": [
            "/usr/local/lib/python3.8/dist-packages/seaborn/_decorators.py:36: FutureWarning: Pass the following variable as a keyword arg: x. From version 0.12, the only valid positional argument will be `data`, and passing other arguments without an explicit keyword will result in an error or misinterpretation.\n",
            "  warnings.warn(\n"
          ]
        },
        {
          "output_type": "execute_result",
          "data": {
            "text/plain": [
              "Text(0.5, 1.0, 'Living bar')"
            ]
          },
          "metadata": {},
          "execution_count": 31
        },
        {
          "output_type": "display_data",
          "data": {
            "text/plain": [
              "<Figure size 504x504 with 1 Axes>"
            ],
            "image/png": "[encoded data removed]"
          },
          "metadata": {
            "needs_background": "light"
          }
        }
      ]
    },
    {
      "cell_type": "code",
      "source": [
        "fig,ax = plt.subplots(1,1,figsize=(7,7))\n",
        "ax = sns.histplot(x=df.AGE)\n",
        "ax.set_title(\"Age distribution\")\n"
      ],
      "metadata": {
        "id": "EE7h9I2d_hMm",
        "colab": {
          "base_uri": "https://localhost:8080/",
          "height": 475
        },
        "outputId": "a28baf57-5809-40e2-f355-593520589ef7"
      },
      "execution_count": 32,
      "outputs": [
        {
          "output_type": "execute_result",
          "data": {
            "text/plain": [
              "Text(0.5, 1.0, 'Age distribution')"
            ]
          },
          "metadata": {},
          "execution_count": 32
        },
        {
          "output_type": "display_data",
          "data": {
            "text/plain": [
              "<Figure size 504x504 with 1 Axes>"
            ],
            "image/png": "[encoded data removed]"
          },
          "metadata": {
            "needs_background": "light"
          }
        }
      ]
    },
    {
      "cell_type": "markdown",
      "source": [
        "## ML Model with label value as Death_prediction"
      ],
      "metadata": {
        "id": "cgv-zFADB_EI"
      }
    },
    {
      "cell_type": "code",
      "source": [
        "def plot_history(history):\n",
        "  '''\n",
        "  Takes history of our model and plot accuracy and loss function\n",
        "\n",
        "  parms:\n",
        "  history - model history\n",
        "\n",
        "  output:\n",
        "  -\n",
        "  '''\n",
        "  loss = history.history[\"loss\"]\n",
        "  acc = history.history[\"accuracy\"]\n",
        "  number_of_elements = len(loss)\n",
        "  epochs = np.linspace(1,number_of_elements,number_of_elements)\n",
        "\n",
        "  ## Plotting functions\n",
        "  fig,ax = plt.subplots(2,1, figsize=(10,7))\n",
        "  ax[0].plot(epochs, acc)\n",
        "  ax[0].set_title(\"Accuracy\")  \n",
        "  ax[1].plot(epochs, loss)\n",
        "  ax[1].set_title(\"Loss function\")\n",
        "  plt.show()\n",
        "\n",
        "\n",
        "from sklearn.metrics import accuracy_score, precision_recall_fscore_support\n",
        "\n",
        "def calculate_results(y_true, y_pred):\n",
        "  \"\"\"\n",
        "  Calculating model accurancy, precision, recall and f1 score\n",
        "  \"\"\"\n",
        "  # Calculate model accuracy\n",
        "  model_accuracy = accuracy_score(y_true, y_pred) * 100\n",
        "  ## Calculate model precision\n",
        "  model_precision, model_recall, model_f1, _ = precision_recall_fscore_support(y_true, y_pred, average=\"weighted\")\n",
        "  \n",
        "  model_results = {\"accuracy\": model_accuracy,\n",
        "                   \"precision\":model_precision * 100,\n",
        "                   \"recall\":model_recall * 100,\n",
        "                   \"f1\":model_f1 * 100}\n",
        "\n",
        "  return model_results"
      ],
      "metadata": {
        "id": "nRikbVD4GB3x"
      },
      "execution_count": 33,
      "outputs": []
    },
    {
      "cell_type": "code",
      "source": [
        "X = df.drop(\"Living\", axis=1)\n",
        "y = df.Living\n",
        "X.shape,y.shape"
      ],
      "metadata": {
        "id": "01Ps6E_fB-k4",
        "colab": {
          "base_uri": "https://localhost:8080/"
        },
        "outputId": "9eb562af-f472-40c2-c486-9d1ce76e6587"
      },
      "execution_count": 34,
      "outputs": [
        {
          "output_type": "execute_result",
          "data": {
            "text/plain": [
              "((1048575, 18), (1048575,))"
            ]
          },
          "metadata": {},
          "execution_count": 34
        }
      ]
    },
    {
      "cell_type": "code",
      "source": [
        "from sklearn.model_selection import train_test_split\n",
        "\n",
        "X_train, X_test, y_train, y_test = train_test_split(X,y, test_size=0.2)"
      ],
      "metadata": {
        "id": "MGxugltMC9y2"
      },
      "execution_count": 35,
      "outputs": []
    },
    {
      "cell_type": "code",
      "source": [
        "## Simple model\n",
        "import tensorflow as tf\n",
        "X_train = tf.convert_to_tensor(X_train)\n",
        "y_train = tf.convert_to_tensor(y_train)\n",
        "X_test = tf.convert_to_tensor(X_test)\n",
        "y_test = tf.convert_to_tensor(y_test)\n",
        "\n",
        "\n",
        "model_1 = tf.keras.Sequential([\n",
        "    tf.keras.layers.Dense(100, activation=\"relu\"),\n",
        "    tf.keras.layers.Dense(100, activation=\"relu\"),\n",
        "    tf.keras.layers.Dense(1, activation=\"sigmoid\")\n",
        "]) \n",
        "\n",
        "model_1.compile(loss=tf.keras.losses.BinaryCrossentropy(),\n",
        "                optimizer=tf.keras.optimizers.Adam(),\n",
        "                metrics=[\"accuracy\"])\n",
        "\n",
        "history_1 = model_1.fit(X_train, y_train,epochs=10)"
      ],
      "metadata": {
        "id": "oDAGq1HRDUAd",
        "colab": {
          "base_uri": "https://localhost:8080/"
        },
        "outputId": "0b6de47e-ec7e-46ec-ec39-75d95b619237"
      },
      "execution_count": 37,
      "outputs": [
        {
          "output_type": "stream",
          "name": "stdout",
          "text": [
            "Epoch 1/10\n",
            "26215/26215 [==============================] - 83s 3ms/step - loss: 0.1344 - accuracy: 0.9366\n",
            "Epoch 2/10\n",
            "26215/26215 [==============================] - 82s 3ms/step - loss: 0.1298 - accuracy: 0.9381\n",
            "Epoch 3/10\n",
            "26215/26215 [==============================] - 84s 3ms/step - loss: 0.1289 - accuracy: 0.9385\n",
            "Epoch 4/10\n",
            "26215/26215 [==============================] - 83s 3ms/step - loss: 0.1283 - accuracy: 0.9389\n",
            "Epoch 5/10\n",
            "26215/26215 [==============================] - 82s 3ms/step - loss: 0.1280 - accuracy: 0.9391\n",
            "Epoch 6/10\n",
            "26215/26215 [==============================] - 84s 3ms/step - loss: 0.1276 - accuracy: 0.9392\n",
            "Epoch 7/10\n",
            "26215/26215 [==============================] - 83s 3ms/step - loss: 0.1275 - accuracy: 0.9390\n",
            "Epoch 8/10\n",
            "26215/26215 [==============================] - 83s 3ms/step - loss: 0.1273 - accuracy: 0.9392\n",
            "Epoch 9/10\n",
            "26215/26215 [==============================] - 82s 3ms/step - loss: 0.1272 - accuracy: 0.9394\n",
            "Epoch 10/10\n",
            "26215/26215 [==============================] - 83s 3ms/step - loss: 0.1270 - accuracy: 0.9394\n"
          ]
        }
      ]
    },
    {
      "cell_type": "code",
      "source": [
        "model_1.summary()"
      ],
      "metadata": {
        "id": "3YlE5sUdLnrP"
      },
      "execution_count": null,
      "outputs": []
    },
    {
      "cell_type": "code",
      "source": [
        "plot_history(history_1)"
      ],
      "metadata": {
        "id": "CHipjcCsGDTi"
      },
      "execution_count": null,
      "outputs": []
    },
    {
      "cell_type": "code",
      "source": [
        "val_pred = model_1.predict(X_test)\n",
        "model_1_preds = tf.squeeze(tf.round(val_pred))\n",
        "model_1_results = calculate_results(y_true=y_test,\n",
        "                                    y_pred=model_1_preds)\n",
        "model_1_results"
      ],
      "metadata": {
        "id": "EfD3Fsp9hr4x"
      },
      "execution_count": null,
      "outputs": []
    },
    {
      "cell_type": "markdown",
      "source": [
        "### Calculate the time our model need to process all the data"
      ],
      "metadata": {
        "id": "0koPRxEBmYRn"
      }
    },
    {
      "cell_type": "code",
      "source": [
        "import time\n",
        "def pred_timer(model, samples):\n",
        "  start_time = time.perf_counter()\n",
        "  model.predict(samples)\n",
        "  end_time = time.perf_counter()\n",
        "  total_time = end_time - start_time\n",
        "  time_per_pred = total_time/len(samples)\n",
        "  return total_time, time_per_pred\n"
      ],
      "metadata": {
        "id": "sH3Ie6vwmdjs"
      },
      "execution_count": null,
      "outputs": []
    },
    {
      "cell_type": "code",
      "source": [
        "X = tf.convert_to_tensor(X)\n",
        "time_total_1, time_per_pred_1 = pred_timer(model_1, X)\n",
        "time_total_1,time_per_pred_1"
      ],
      "metadata": {
        "id": "GC1x14H8mkGR"
      },
      "execution_count": null,
      "outputs": []
    },
    {
      "cell_type": "markdown",
      "source": [
        "## Experiment add all diseases and compile the same model with new data\n",
        "Still exclude INTUNED and ICU for there have high correlaction with PATIENT_TYPE"
      ],
      "metadata": {
        "id": "heC_gkmXnRly"
      }
    },
    {
      "cell_type": "code",
      "source": [
        "df = pd.read_csv('Covid Data.csv')\n",
        "\n",
        "df[\"Living\"] = [1 if i ==\"9999-99-99\" else 0 for i in df['DATE_DIED']]\n",
        "\n",
        "df[\"is_PREGNANT\"] = [1 if i == 2 else 0 for i in df[\"PREGNANT\"]]\n",
        "df[\"cap_pregnant\"] = [0 if (i==97 or i==98) else 1 for i in df[\"PREGNANT\"]]\n",
        "\n",
        "df[\"is_PNEUMONIA\"] = [0 if i==99 else 1 for i in df[\"PNEUMONIA\"]]\n",
        "df[\"PNEUMONIA\"] = [1 if i==2 else 0 for i in df[\"PNEUMONIA\"]]\n",
        "\n",
        "df[\"is_COPD\"] = [0 if i==98 else 1 for i in df[\"COPD\"]]#\n",
        "df[\"COPD\"] = [1 if i==2 else 0 for i in df[\"COPD\"]]\n",
        "\n",
        "df[\"is_ASTHMA\"] = [0 if i==98 else 1 for i in df[\"ASTHMA\"]]#\n",
        "df[\"ASTHMA\"] = [1 if i==2 else 0 for i in df[\"ASTHMA\"]]\n",
        "\n",
        "df[\"is_RENAL_CHRONIC\"] = [0 if i==98 else 1 for i in df[\"RENAL_CHRONIC\"]]#\n",
        "df[\"RENAL_CHRONIC\"] = [1 if i==2 else 0 for i in df[\"RENAL_CHRONIC\"]]\n",
        "\n",
        "df[\"is_TOBACCO\"] = [0 if i==98 else 1 for i in df[\"TOBACCO\"]]\n",
        "df[\"TOBACCO\"] = [1 if i==2 else 0 for i in df[\"TOBACCO\"]]#\n",
        "\n",
        "df[\"SEX\"] = [1 if i==2 else 0 for i in df[\"SEX\"]]\n",
        "\n",
        "\n",
        "df[\"is_DIABETES\"] = [0 if i==98 else 1 for i in df[\"DIABETES\"]]\n",
        "df[\"DIABETES\"] = [1 if i==2 else 0 for i in df[\"DIABETES\"]]\n",
        "df[\"is_HIPERTENSION\"] = [0 if i==98 else 1 for i in df[\"HIPERTENSION\"]]\n",
        "df[\"HIPERTENSION\"] = [1 if i==2 else 0 for i in df[\"HIPERTENSION\"]]\n",
        "df[\"is_INTUBED\"] = [0 if (i==97 or i==99) else 1 for i in df[\"INTUBED\"]]\n",
        "df[\"INTUBED\"] = [1 if i==2 else 0 for i in df[\"INTUBED\"]]\n",
        "df[\"is_OTHER_DISEASE\"] = [0 if i==98 else 1 for i in df[\"OTHER_DISEASE\"]]\n",
        "df[\"OTHER_DISEASE\"] = [1 if i==2 else 0 for i in df[\"OTHER_DISEASE\"]]\n",
        "df[\"is_CARDIOVASCULAR\"] = [0 if i==98 else 1 for i in df[\"CARDIOVASCULAR\"]]\n",
        "df[\"CARDIOVASCULAR\"] = [1 if i==2 else 0 for i in df[\"CARDIOVASCULAR\"]]\n",
        "df[\"is_OBESITY\"] = [0 if i==98 else 1 for i in df[\"OBESITY\"]]\n",
        "df[\"OBESITY\"] = [1 if i==2 else 0 for i in df[\"OBESITY\"]]\n",
        "\n",
        "df = df.drop(\"DATE_DIED\", axis=1)\n",
        "df = df.drop(\"PREGNANT\", axis=1)\n",
        "df = df.drop(\"INMSUPR\", axis=1)\n",
        "df = df.drop(\"ICU\", axis=1)\n",
        "df = df.drop(\"INTUBED\", axis=1)"
      ],
      "metadata": {
        "id": "97w6fMjfndBX"
      },
      "execution_count": null,
      "outputs": []
    },
    {
      "cell_type": "code",
      "source": [
        "X = df.drop(\"Living\", axis=1)\n",
        "y = df.Living"
      ],
      "metadata": {
        "id": "H9FX_fxeoaG2"
      },
      "execution_count": null,
      "outputs": []
    },
    {
      "cell_type": "code",
      "source": [
        "X_train, X_test, y_train, y_test = train_test_split(X,y, test_size=0.2)"
      ],
      "metadata": {
        "id": "P1_BB6HQoQrv"
      },
      "execution_count": null,
      "outputs": []
    },
    {
      "cell_type": "code",
      "source": [
        "X_train = tf.convert_to_tensor(X_train)\n",
        "y_train = tf.convert_to_tensor(y_train)\n",
        "X_test = tf.convert_to_tensor(X_test)\n",
        "y_test = tf.convert_to_tensor(y_test)\n",
        "\n",
        "\n",
        "model_2 = tf.keras.Sequential([\n",
        "    tf.keras.layers.Dense(100, activation=\"relu\"),\n",
        "    tf.keras.layers.Dense(100, activation=\"relu\"),\n",
        "    tf.keras.layers.Dense(1, activation=\"sigmoid\")\n",
        "]) \n",
        "\n",
        "model_2.compile(loss=tf.keras.losses.BinaryCrossentropy(),\n",
        "                optimizer=tf.keras.optimizers.Adam(),\n",
        "                metrics=[\"accuracy\"])\n",
        "\n",
        "history_2 = model_2.fit(X_train, y_train,epochs=10)"
      ],
      "metadata": {
        "id": "U-OdcchwoTMW"
      },
      "execution_count": null,
      "outputs": []
    },
    {
      "cell_type": "code",
      "source": [
        "plot_history(history_2)"
      ],
      "metadata": {
        "id": "e07UovuSof9N"
      },
      "execution_count": null,
      "outputs": []
    },
    {
      "cell_type": "code",
      "source": [
        "val_pred = model_2.predict(X_test)\n",
        "model_2_preds = tf.squeeze(tf.round(val_pred))\n",
        "model_2_results = calculate_results(y_true=y_test,\n",
        "                                    y_pred=model_2_preds)\n",
        "model_2_results"
      ],
      "metadata": {
        "id": "QduKahjfopAl"
      },
      "execution_count": null,
      "outputs": []
    },
    {
      "cell_type": "code",
      "source": [
        "X = tf.convert_to_tensor(X)\n",
        "time_total_2, time_per_pred_2 = pred_timer(model_2, X)\n",
        "time_total_2,time_per_pred_2"
      ],
      "metadata": {
        "id": "HYmpduUlovE0"
      },
      "execution_count": null,
      "outputs": []
    },
    {
      "cell_type": "markdown",
      "source": [
        "### Model with added diseases dont work better than with smaller number of diseases"
      ],
      "metadata": {
        "id": "IR2kEOxdsIxg"
      }
    },
    {
      "cell_type": "markdown",
      "source": [
        "## Building model that will not include any diseases"
      ],
      "metadata": {
        "id": "VatcZdijsWrF"
      }
    },
    {
      "cell_type": "code",
      "source": [
        "df = pd.read_csv('Covid Data.csv')\n",
        "\n",
        "df[\"Living\"] = [1 if i ==\"9999-99-99\" else 0 for i in df['DATE_DIED']]\n",
        "\n",
        "df[\"is_PREGNANT\"] = [1 if i == 2 else 0 for i in df[\"PREGNANT\"]]\n",
        "df[\"cap_pregnant\"] = [0 if (i==97 or i==98) else 1 for i in df[\"PREGNANT\"]]\n",
        "df[\"is_TOBACCO\"] = [0 if i==98 else 1 for i in df[\"TOBACCO\"]]\n",
        "df[\"TOBACCO\"] = [1 if i==2 else 0 for i in df[\"TOBACCO\"]]#\n",
        "\n",
        "df[\"SEX\"] = [1 if i==2 else 0 for i in df[\"SEX\"]]\n",
        "\n",
        "\n",
        "df = df.drop(\"PNEUMONIA\",axis=1)\n",
        "df = df.drop(\"COPD\",axis=1)\n",
        "df = df.drop(\"RENAL_CHRONIC\",axis=1)\n",
        "df = df.drop(\"DATE_DIED\", axis=1)\n",
        "df = df.drop(\"PREGNANT\", axis=1)\n",
        "df = df.drop(\"INMSUPR\", axis=1)\n",
        "df = df.drop(\"DIABETES\", axis=1)\n",
        "df = df.drop(\"HIPERTENSION\", axis=1)\n",
        "df = df.drop(\"OTHER_DISEASE\", axis=1)\n",
        "df = df.drop(\"CARDIOVASCULAR\", axis=1)\n",
        "df = df.drop(\"OBESITY\", axis=1)\n",
        "df = df.drop(\"ICU\", axis=1)\n",
        "df = df.drop(\"INTUBED\", axis=1)"
      ],
      "metadata": {
        "id": "uv6HY2kKseBN"
      },
      "execution_count": null,
      "outputs": []
    },
    {
      "cell_type": "code",
      "source": [
        "X = df.drop(\"Living\", axis=1)\n",
        "y = df.Living"
      ],
      "metadata": {
        "id": "K3iD0YbptLgI"
      },
      "execution_count": null,
      "outputs": []
    },
    {
      "cell_type": "code",
      "source": [
        "X_train, X_test, y_train, y_test = train_test_split(X,y, test_size=0.2)"
      ],
      "metadata": {
        "id": "sFaVpVAitNQ1"
      },
      "execution_count": null,
      "outputs": []
    },
    {
      "cell_type": "code",
      "source": [
        "X_train = tf.convert_to_tensor(X_train)\n",
        "y_train = tf.convert_to_tensor(y_train)\n",
        "X_test = tf.convert_to_tensor(X_test)\n",
        "y_test = tf.convert_to_tensor(y_test)\n",
        "\n",
        "\n",
        "model_3 = tf.keras.Sequential([\n",
        "    tf.keras.layers.Dense(100, activation=\"relu\"),\n",
        "    tf.keras.layers.Dense(100, activation=\"relu\"),\n",
        "    tf.keras.layers.Dense(1, activation=\"sigmoid\")\n",
        "]) \n",
        "\n",
        "model_3.compile(loss=tf.keras.losses.BinaryCrossentropy(),\n",
        "                optimizer=tf.keras.optimizers.Adam(),\n",
        "                metrics=[\"accuracy\"])\n",
        "\n",
        "history_3 = model_3.fit(X_train, y_train,epochs=10)"
      ],
      "metadata": {
        "id": "qAmqvdCMtPWf"
      },
      "execution_count": null,
      "outputs": []
    },
    {
      "cell_type": "code",
      "source": [
        "plot_history(history_3)"
      ],
      "metadata": {
        "id": "H7vWVM8qtQ7H"
      },
      "execution_count": null,
      "outputs": []
    },
    {
      "cell_type": "code",
      "source": [
        "val_pred = model_3.predict(X_test)\n",
        "model_3_preds = tf.squeeze(tf.round(val_pred))\n",
        "model_3_results = calculate_results(y_true=y_test,\n",
        "                                    y_pred=model_3_preds)\n",
        "model_3_results"
      ],
      "metadata": {
        "id": "F6DVzdgltSga"
      },
      "execution_count": null,
      "outputs": []
    },
    {
      "cell_type": "code",
      "source": [
        "X = tf.convert_to_tensor(X)\n",
        "time_total_3, time_per_pred_3 = pred_timer(model_3, X)\n",
        "time_total_3,time_per_pred_3"
      ],
      "metadata": {
        "id": "Ozt_7fS7tT6R"
      },
      "execution_count": null,
      "outputs": []
    },
    {
      "cell_type": "markdown",
      "source": [
        "## Summary"
      ],
      "metadata": {
        "id": "t_vhdslIZ6T9"
      }
    },
    {
      "cell_type": "code",
      "source": [
        "data = {\"Model_1\": [np.round(model_1_results[\"accuracy\"],2), time_total_1, 1e6*time_per_pred_1], \n",
        "        \"Model_2\": [np.round(model_2_results[\"accuracy\"],2), time_total_2, 1e6*time_per_pred_2], \n",
        "        \"Model_3\": [np.round(model_3_results[\"accuracy\"],2), time_total_3, 1e6*time_per_pred_3]}\n",
        "results = pd.DataFrame(data=data, index=[\"Accuracy [%]\",  \"Time_dataset [s]\",\"Time_per_sample [10^-6 s]\"])"
      ],
      "metadata": {
        "id": "CufcFCNOZwkF"
      },
      "execution_count": null,
      "outputs": []
    },
    {
      "cell_type": "code",
      "source": [
        "results.T"
      ],
      "metadata": {
        "id": "He4Lufa7boPa"
      },
      "execution_count": null,
      "outputs": []
    },
    {
      "cell_type": "markdown",
      "source": [
        "### Model 2 have the fastest time for predicting the sample, all model accuracy have nearly the same value, so in conclusion diseases don't have much value in predicting the right label, but it helps our model work faster."
      ],
      "metadata": {
        "id": "JxxxDUSYmTBm"
      }
    }
  ]
}
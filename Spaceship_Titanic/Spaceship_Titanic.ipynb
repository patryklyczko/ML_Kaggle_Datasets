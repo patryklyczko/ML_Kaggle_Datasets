{
  "nbformat": 4,
  "nbformat_minor": 0,
  "metadata": {
    "colab": {
      "provenance": []
    },
    "kernelspec": {
      "name": "python3",
      "display_name": "Python 3"
    },
    "language_info": {
      "name": "python"
    },
    "gpuClass": "standard"
  },
  "cells": [
    {
      "cell_type": "code",
      "execution_count": 1,
      "metadata": {
        "id": "GDtJkV5Q7Ilb"
      },
      "outputs": [],
      "source": [
        "import numpy as np\n",
        "import pandas as pd\n",
        "import matplotlib.pyplot as plt\n",
        "import zipfile"
      ]
    },
    {
      "cell_type": "code",
      "source": [
        "!mkdir ~/.kaggle\n",
        "!touch ~/.kaggle/kaggle.json\n",
        "!mv /content/kaggle.json ~/.kaggle/\n",
        "!chmod 600 ~/.kaggle/kaggle.json\n",
        "! kaggle competitions download -c spaceship-titanic"
      ],
      "metadata": {
        "colab": {
          "base_uri": "https://localhost:8080/"
        },
        "id": "pTTMx1pB7kD3",
        "outputId": "c3e9de8f-7590-4e16-d4d2-965eeb78bb1d"
      },
      "execution_count": 2,
      "outputs": [
        {
          "output_type": "stream",
          "name": "stdout",
          "text": [
            "mkdir: cannot create directory ‘/root/.kaggle’: File exists\n",
            "mv: cannot stat '/content/kaggle.json': No such file or directory\n",
            "spaceship-titanic.zip: Skipping, found more recently modified local copy (use --force to force download)\n"
          ]
        }
      ]
    },
    {
      "cell_type": "markdown",
      "source": [
        "## Extracting data"
      ],
      "metadata": {
        "id": "0JB_An4P8A9I"
      }
    },
    {
      "cell_type": "code",
      "source": [
        "zip_ref = zipfile.ZipFile(\"/content/spaceship-titanic.zip\")\n",
        "zip_ref.extractall()\n",
        "zip_ref.close()"
      ],
      "metadata": {
        "id": "2gBJ2vX58AyG"
      },
      "execution_count": 3,
      "outputs": []
    },
    {
      "cell_type": "code",
      "source": [
        "from typing import List\n",
        "import seaborn as sns\n",
        "from scipy.stats import norm\n",
        "from sklearn.preprocessing import OneHotEncoder, MinMaxScaler\n",
        "\n",
        "class ModelData:\n",
        "  def __init__(self, df):\n",
        "    self.df_model = df\n",
        "\n",
        "  def return_dataframe(self):\n",
        "    return self.df_model\n",
        "\n",
        "  def get_head(self):\n",
        "    return self.df_model.head()\n",
        "\n",
        "  def get_columns(self):\n",
        "    return self.df_model.columns\n",
        "\n",
        "  def get_unique(self, column):\n",
        "    return self.df_model[column].unique()\n",
        "\n",
        "  def plot_bar(self, column):\n",
        "    self.df_model[column].value_counts().sort_values().plot(kind = \"barh\")\n",
        "  \n",
        "  def get_info(self):\n",
        "    return self.df_model.info()\n",
        "  \n",
        "  def describe(self):\n",
        "    return self.df_model.describe()\n",
        "\n",
        "  def find_null_column(self) -> List:\n",
        "    columns = self.df_model.columns[self.df_model.isnull().any()]\n",
        "    return columns\n",
        "  \n",
        "  def fix_columns(self, columns:List[str] , method: str):\n",
        "    if method == \"mean\":\n",
        "      for column in columns:\n",
        "        self.df_model[column].fillna(self.df_model[column].mean(), inplace=True)\n",
        "\n",
        "  def fix_column_str(self, column):\n",
        "    self.df_model[column] = self.df_model[column].replace('', \"0\")\n",
        "\n",
        "  def fix_columns_values(self,column, threshold):\n",
        "    for col, thr in zip(column, threshold):\n",
        "      self.df_model[col] = self.df_model[col].apply(lambda x: self.df_model[col].mean() if x < thr else x)\n",
        "\n",
        "  def count_column_condition(self, column1, column2, condition):\n",
        "    '''\n",
        "      Count specific value in another column (column2) when we group by column2 \n",
        "      given condition that aplies to column2\n",
        "\n",
        "      Inputs:\n",
        "        -column1: Column to group by\n",
        "        -column2: Column in which we trying to count elements\n",
        "        -condition: given condition to column2\n",
        "\n",
        "      Returns:\n",
        "        - List of columns and count of elements for them\n",
        "    '''\n",
        "    return self.df_model.groupby(column1)[column2].apply(lambda x: (x == condition).sum())\n",
        "\n",
        "  def delete_columns(self, columns: List[str]):\n",
        "    for i in columns:\n",
        "      self.df_model = self.df_model.drop(i, axis=1)\n",
        "\n",
        "  def get_dtypes(self):\n",
        "    return self.df_model.dtypes\n",
        "\n",
        "  def show_corr(self):\n",
        "    plt.figure(figsize=(16,16))\n",
        "    sns.heatmap(data=self.df_model.corr(), annot=True, fmt=\".2f\")\n",
        "\n",
        "  def show_normal_distribution(self, columns):\n",
        "    for i in columns:\n",
        "      col = self.df_model[i]\n",
        "      mean, std_dev = norm.fit(col)\n",
        "      plt.figure(figsize=(10,10))\n",
        "      plt.hist(col, bins=20, density=True, alpha=0.6, color='g')\n",
        "      xmin, xmax = plt.xlim()\n",
        "      x = np.linspace(xmin, xmax, 100)\n",
        "      p = norm.pdf(x, mean, std_dev)\n",
        "      plt.plot(x, p, 'k', linewidth=2)\n",
        "      title = f\"Normal distribution of {i}: mean = {mean:.2f}, std dev = {std_dev:.2f}\"\n",
        "      plt.title(title)\n",
        "      plt.show()\n",
        "\n",
        "\n",
        "  def show_normal_distribution_label(self,label, columns):\n",
        "    ones_label = self.df_model[self.df_model[label] == 1]\n",
        "    zero_label = self.df_model[self.df_model[label] == 0]\n",
        "    for i in columns:\n",
        "      plt.figure(figsize=(10,10))\n",
        "      ones_label[i].plot(kind=\"kde\", color=\"green\", title=i)\n",
        "      zero_label[i].plot(kind=\"kde\", color=\"red\")\n",
        "      plt.xlim([0,max(ones_label[i])])\n",
        "\n",
        "  def dummies(self, columns):\n",
        "    df = pd.get_dummies(self.df_model, columns = columns)\n",
        "    self.df_model = df\n",
        "\n",
        "\n",
        "  def min_max_scaler(self, columns):\n",
        "    clf = MinMaxScaler()\n",
        "    df_min_max = self.df_model[columns]\n",
        "    data_transformed = clf.fit_transform(df_min_max.to_numpy())\n",
        "    data_transformed = pd.DataFrame(data_transformed)\n",
        "    df_one_hot = pd.concat([self.df_model.drop(columns, axis=1), data_transformed], axis=1)\n",
        "    self.df_model = pd.DataFrame(df_one_hot)\n",
        "\n",
        "\n"
      ],
      "metadata": {
        "id": "OJZhpbrm8Il1"
      },
      "execution_count": 4,
      "outputs": []
    },
    {
      "cell_type": "code",
      "source": [
        "df = pd.read_csv(\"/content/train.csv\")\n",
        "df = ModelData(df)"
      ],
      "metadata": {
        "id": "1OB0g9Gd8OFN"
      },
      "execution_count": 5,
      "outputs": []
    },
    {
      "cell_type": "code",
      "source": [
        "df.get_info()"
      ],
      "metadata": {
        "colab": {
          "base_uri": "https://localhost:8080/"
        },
        "id": "-4XL9Hft8XYg",
        "outputId": "7b233d1d-3f7f-4d82-9d66-bd4b2c889b31"
      },
      "execution_count": 6,
      "outputs": [
        {
          "output_type": "stream",
          "name": "stdout",
          "text": [
            "<class 'pandas.core.frame.DataFrame'>\n",
            "RangeIndex: 8693 entries, 0 to 8692\n",
            "Data columns (total 14 columns):\n",
            " #   Column        Non-Null Count  Dtype  \n",
            "---  ------        --------------  -----  \n",
            " 0   PassengerId   8693 non-null   object \n",
            " 1   HomePlanet    8492 non-null   object \n",
            " 2   CryoSleep     8476 non-null   object \n",
            " 3   Cabin         8494 non-null   object \n",
            " 4   Destination   8511 non-null   object \n",
            " 5   Age           8514 non-null   float64\n",
            " 6   VIP           8490 non-null   object \n",
            " 7   RoomService   8512 non-null   float64\n",
            " 8   FoodCourt     8510 non-null   float64\n",
            " 9   ShoppingMall  8485 non-null   float64\n",
            " 10  Spa           8510 non-null   float64\n",
            " 11  VRDeck        8505 non-null   float64\n",
            " 12  Name          8493 non-null   object \n",
            " 13  Transported   8693 non-null   bool   \n",
            "dtypes: bool(1), float64(6), object(7)\n",
            "memory usage: 891.5+ KB\n"
          ]
        }
      ]
    },
    {
      "cell_type": "code",
      "source": [
        "df.find_null_column()"
      ],
      "metadata": {
        "colab": {
          "base_uri": "https://localhost:8080/"
        },
        "id": "xWTel_cJ8dB1",
        "outputId": "7dfc4ea5-f93e-4b87-8dae-f38243319ab3"
      },
      "execution_count": 7,
      "outputs": [
        {
          "output_type": "execute_result",
          "data": {
            "text/plain": [
              "Index(['HomePlanet', 'CryoSleep', 'Cabin', 'Destination', 'Age', 'VIP',\n",
              "       'RoomService', 'FoodCourt', 'ShoppingMall', 'Spa', 'VRDeck', 'Name'],\n",
              "      dtype='object')"
            ]
          },
          "metadata": {},
          "execution_count": 7
        }
      ]
    },
    {
      "cell_type": "code",
      "source": [
        "df.get_dtypes()"
      ],
      "metadata": {
        "colab": {
          "base_uri": "https://localhost:8080/"
        },
        "id": "lTdH11PY8lsN",
        "outputId": "6c79d39b-a2ba-4089-87b5-d7dde158334a"
      },
      "execution_count": 8,
      "outputs": [
        {
          "output_type": "execute_result",
          "data": {
            "text/plain": [
              "PassengerId      object\n",
              "HomePlanet       object\n",
              "CryoSleep        object\n",
              "Cabin            object\n",
              "Destination      object\n",
              "Age             float64\n",
              "VIP              object\n",
              "RoomService     float64\n",
              "FoodCourt       float64\n",
              "ShoppingMall    float64\n",
              "Spa             float64\n",
              "VRDeck          float64\n",
              "Name             object\n",
              "Transported        bool\n",
              "dtype: object"
            ]
          },
          "metadata": {},
          "execution_count": 8
        }
      ]
    },
    {
      "cell_type": "code",
      "source": [
        "df.get_head()"
      ],
      "metadata": {
        "colab": {
          "base_uri": "https://localhost:8080/",
          "height": 206
        },
        "id": "3f5Zc25-8toH",
        "outputId": "7e7d9d76-214e-40c7-a9fb-63b0d2258349"
      },
      "execution_count": 9,
      "outputs": [
        {
          "output_type": "execute_result",
          "data": {
            "text/plain": [
              "  PassengerId HomePlanet CryoSleep  Cabin  Destination   Age    VIP  \\\n",
              "0     0001_01     Europa     False  B/0/P  TRAPPIST-1e  39.0  False   \n",
              "1     0002_01      Earth     False  F/0/S  TRAPPIST-1e  24.0  False   \n",
              "2     0003_01     Europa     False  A/0/S  TRAPPIST-1e  58.0   True   \n",
              "3     0003_02     Europa     False  A/0/S  TRAPPIST-1e  33.0  False   \n",
              "4     0004_01      Earth     False  F/1/S  TRAPPIST-1e  16.0  False   \n",
              "\n",
              "   RoomService  FoodCourt  ShoppingMall     Spa  VRDeck               Name  \\\n",
              "0          0.0        0.0           0.0     0.0     0.0    Maham Ofracculy   \n",
              "1        109.0        9.0          25.0   549.0    44.0       Juanna Vines   \n",
              "2         43.0     3576.0           0.0  6715.0    49.0      Altark Susent   \n",
              "3          0.0     1283.0         371.0  3329.0   193.0       Solam Susent   \n",
              "4        303.0       70.0         151.0   565.0     2.0  Willy Santantines   \n",
              "\n",
              "   Transported  \n",
              "0        False  \n",
              "1         True  \n",
              "2        False  \n",
              "3        False  \n",
              "4         True  "
            ],
            "text/html": [
              "\n",
              "  <div id=\"df-b8ade5cb-fb3a-44e3-a1ad-663d3a73702b\">\n",
              "    <div class=\"colab-df-container\">\n",
              "      <div>\n",
              "<style scoped>\n",
              "    .dataframe tbody tr th:only-of-type {\n",
              "        vertical-align: middle;\n",
              "    }\n",
              "\n",
              "    .dataframe tbody tr th {\n",
              "        vertical-align: top;\n",
              "    }\n",
              "\n",
              "    .dataframe thead th {\n",
              "        text-align: right;\n",
              "    }\n",
              "</style>\n",
              "<table border=\"1\" class=\"dataframe\">\n",
              "  <thead>\n",
              "    <tr style=\"text-align: right;\">\n",
              "      <th></th>\n",
              "      <th>PassengerId</th>\n",
              "      <th>HomePlanet</th>\n",
              "      <th>CryoSleep</th>\n",
              "      <th>Cabin</th>\n",
              "      <th>Destination</th>\n",
              "      <th>Age</th>\n",
              "      <th>VIP</th>\n",
              "      <th>RoomService</th>\n",
              "      <th>FoodCourt</th>\n",
              "      <th>ShoppingMall</th>\n",
              "      <th>Spa</th>\n",
              "      <th>VRDeck</th>\n",
              "      <th>Name</th>\n",
              "      <th>Transported</th>\n",
              "    </tr>\n",
              "  </thead>\n",
              "  <tbody>\n",
              "    <tr>\n",
              "      <th>0</th>\n",
              "      <td>0001_01</td>\n",
              "      <td>Europa</td>\n",
              "      <td>False</td>\n",
              "      <td>B/0/P</td>\n",
              "      <td>TRAPPIST-1e</td>\n",
              "      <td>39.0</td>\n",
              "      <td>False</td>\n",
              "      <td>0.0</td>\n",
              "      <td>0.0</td>\n",
              "      <td>0.0</td>\n",
              "      <td>0.0</td>\n",
              "      <td>0.0</td>\n",
              "      <td>Maham Ofracculy</td>\n",
              "      <td>False</td>\n",
              "    </tr>\n",
              "    <tr>\n",
              "      <th>1</th>\n",
              "      <td>0002_01</td>\n",
              "      <td>Earth</td>\n",
              "      <td>False</td>\n",
              "      <td>F/0/S</td>\n",
              "      <td>TRAPPIST-1e</td>\n",
              "      <td>24.0</td>\n",
              "      <td>False</td>\n",
              "      <td>109.0</td>\n",
              "      <td>9.0</td>\n",
              "      <td>25.0</td>\n",
              "      <td>549.0</td>\n",
              "      <td>44.0</td>\n",
              "      <td>Juanna Vines</td>\n",
              "      <td>True</td>\n",
              "    </tr>\n",
              "    <tr>\n",
              "      <th>2</th>\n",
              "      <td>0003_01</td>\n",
              "      <td>Europa</td>\n",
              "      <td>False</td>\n",
              "      <td>A/0/S</td>\n",
              "      <td>TRAPPIST-1e</td>\n",
              "      <td>58.0</td>\n",
              "      <td>True</td>\n",
              "      <td>43.0</td>\n",
              "      <td>3576.0</td>\n",
              "      <td>0.0</td>\n",
              "      <td>6715.0</td>\n",
              "      <td>49.0</td>\n",
              "      <td>Altark Susent</td>\n",
              "      <td>False</td>\n",
              "    </tr>\n",
              "    <tr>\n",
              "      <th>3</th>\n",
              "      <td>0003_02</td>\n",
              "      <td>Europa</td>\n",
              "      <td>False</td>\n",
              "      <td>A/0/S</td>\n",
              "      <td>TRAPPIST-1e</td>\n",
              "      <td>33.0</td>\n",
              "      <td>False</td>\n",
              "      <td>0.0</td>\n",
              "      <td>1283.0</td>\n",
              "      <td>371.0</td>\n",
              "      <td>3329.0</td>\n",
              "      <td>193.0</td>\n",
              "      <td>Solam Susent</td>\n",
              "      <td>False</td>\n",
              "    </tr>\n",
              "    <tr>\n",
              "      <th>4</th>\n",
              "      <td>0004_01</td>\n",
              "      <td>Earth</td>\n",
              "      <td>False</td>\n",
              "      <td>F/1/S</td>\n",
              "      <td>TRAPPIST-1e</td>\n",
              "      <td>16.0</td>\n",
              "      <td>False</td>\n",
              "      <td>303.0</td>\n",
              "      <td>70.0</td>\n",
              "      <td>151.0</td>\n",
              "      <td>565.0</td>\n",
              "      <td>2.0</td>\n",
              "      <td>Willy Santantines</td>\n",
              "      <td>True</td>\n",
              "    </tr>\n",
              "  </tbody>\n",
              "</table>\n",
              "</div>\n",
              "      <button class=\"colab-df-convert\" onclick=\"convertToInteractive('df-b8ade5cb-fb3a-44e3-a1ad-663d3a73702b')\"\n",
              "              title=\"Convert this dataframe to an interactive table.\"\n",
              "              style=\"display:none;\">\n",
              "        \n",
              "  <svg xmlns=\"http://www.w3.org/2000/svg\" height=\"24px\"viewBox=\"0 0 24 24\"\n",
              "       width=\"24px\">\n",
              "    <path d=\"M0 0h24v24H0V0z\" fill=\"none\"/>\n",
              "    <path d=\"M18.56 5.44l.94 2.06.94-2.06 2.06-.94-2.06-.94-.94-2.06-.94 2.06-2.06.94zm-11 1L8.5 8.5l.94-2.06 2.06-.94-2.06-.94L8.5 2.5l-.94 2.06-2.06.94zm10 10l.94 2.06.94-2.06 2.06-.94-2.06-.94-.94-2.06-.94 2.06-2.06.94z\"/><path d=\"M17.41 7.96l-1.37-1.37c-.4-.4-.92-.59-1.43-.59-.52 0-1.04.2-1.43.59L10.3 9.45l-7.72 7.72c-.78.78-.78 2.05 0 2.83L4 21.41c.39.39.9.59 1.41.59.51 0 1.02-.2 1.41-.59l7.78-7.78 2.81-2.81c.8-.78.8-2.07 0-2.86zM5.41 20L4 18.59l7.72-7.72 1.47 1.35L5.41 20z\"/>\n",
              "  </svg>\n",
              "      </button>\n",
              "      \n",
              "  <style>\n",
              "    .colab-df-container {\n",
              "      display:flex;\n",
              "      flex-wrap:wrap;\n",
              "      gap: 12px;\n",
              "    }\n",
              "\n",
              "    .colab-df-convert {\n",
              "      background-color: #E8F0FE;\n",
              "      border: none;\n",
              "      border-radius: 50%;\n",
              "      cursor: pointer;\n",
              "      display: none;\n",
              "      fill: #1967D2;\n",
              "      height: 32px;\n",
              "      padding: 0 0 0 0;\n",
              "      width: 32px;\n",
              "    }\n",
              "\n",
              "    .colab-df-convert:hover {\n",
              "      background-color: #E2EBFA;\n",
              "      box-shadow: 0px 1px 2px rgba(60, 64, 67, 0.3), 0px 1px 3px 1px rgba(60, 64, 67, 0.15);\n",
              "      fill: #174EA6;\n",
              "    }\n",
              "\n",
              "    [theme=dark] .colab-df-convert {\n",
              "      background-color: #3B4455;\n",
              "      fill: #D2E3FC;\n",
              "    }\n",
              "\n",
              "    [theme=dark] .colab-df-convert:hover {\n",
              "      background-color: #434B5C;\n",
              "      box-shadow: 0px 1px 3px 1px rgba(0, 0, 0, 0.15);\n",
              "      filter: drop-shadow(0px 1px 2px rgba(0, 0, 0, 0.3));\n",
              "      fill: #FFFFFF;\n",
              "    }\n",
              "  </style>\n",
              "\n",
              "      <script>\n",
              "        const buttonEl =\n",
              "          document.querySelector('#df-b8ade5cb-fb3a-44e3-a1ad-663d3a73702b button.colab-df-convert');\n",
              "        buttonEl.style.display =\n",
              "          google.colab.kernel.accessAllowed ? 'block' : 'none';\n",
              "\n",
              "        async function convertToInteractive(key) {\n",
              "          const element = document.querySelector('#df-b8ade5cb-fb3a-44e3-a1ad-663d3a73702b');\n",
              "          const dataTable =\n",
              "            await google.colab.kernel.invokeFunction('convertToInteractive',\n",
              "                                                     [key], {});\n",
              "          if (!dataTable) return;\n",
              "\n",
              "          const docLinkHtml = 'Like what you see? Visit the ' +\n",
              "            '<a target=\"_blank\" href=https://colab.research.google.com/notebooks/data_table.ipynb>data table notebook</a>'\n",
              "            + ' to learn more about interactive tables.';\n",
              "          element.innerHTML = '';\n",
              "          dataTable['output_type'] = 'display_data';\n",
              "          await google.colab.output.renderOutput(dataTable, element);\n",
              "          const docLink = document.createElement('div');\n",
              "          docLink.innerHTML = docLinkHtml;\n",
              "          element.appendChild(docLink);\n",
              "        }\n",
              "      </script>\n",
              "    </div>\n",
              "  </div>\n",
              "  "
            ]
          },
          "metadata": {},
          "execution_count": 9
        }
      ]
    },
    {
      "cell_type": "code",
      "source": [
        "df.get_unique(\"HomePlanet\")"
      ],
      "metadata": {
        "colab": {
          "base_uri": "https://localhost:8080/"
        },
        "id": "JiKwGefZ9WZW",
        "outputId": "9e6a7acd-a815-436a-d787-637c76f1e90c"
      },
      "execution_count": 10,
      "outputs": [
        {
          "output_type": "execute_result",
          "data": {
            "text/plain": [
              "array(['Europa', 'Earth', 'Mars', nan], dtype=object)"
            ]
          },
          "metadata": {},
          "execution_count": 10
        }
      ]
    },
    {
      "cell_type": "code",
      "source": [
        "df.get_unique(\"CryoSleep\")"
      ],
      "metadata": {
        "colab": {
          "base_uri": "https://localhost:8080/"
        },
        "id": "OWuy7HQP9cvt",
        "outputId": "16a2b05f-f4e3-4d25-a388-1a5ae5162dd8"
      },
      "execution_count": 11,
      "outputs": [
        {
          "output_type": "execute_result",
          "data": {
            "text/plain": [
              "array([False, True, nan], dtype=object)"
            ]
          },
          "metadata": {},
          "execution_count": 11
        }
      ]
    },
    {
      "cell_type": "code",
      "source": [
        "df.get_unique(\"Cabin\")"
      ],
      "metadata": {
        "colab": {
          "base_uri": "https://localhost:8080/"
        },
        "id": "B8ys_YGP9imm",
        "outputId": "710dfe47-1745-4558-ddfe-0449bccb5bc3"
      },
      "execution_count": 12,
      "outputs": [
        {
          "output_type": "execute_result",
          "data": {
            "text/plain": [
              "array(['B/0/P', 'F/0/S', 'A/0/S', ..., 'G/1499/S', 'G/1500/S', 'E/608/S'],\n",
              "      dtype=object)"
            ]
          },
          "metadata": {},
          "execution_count": 12
        }
      ]
    },
    {
      "cell_type": "code",
      "source": [
        "df.get_unique(\"Destination\")"
      ],
      "metadata": {
        "colab": {
          "base_uri": "https://localhost:8080/"
        },
        "id": "u4t8Fd2M9rb1",
        "outputId": "6cffe085-1b69-44dd-903a-fdf2eb8ac95b"
      },
      "execution_count": 13,
      "outputs": [
        {
          "output_type": "execute_result",
          "data": {
            "text/plain": [
              "array(['TRAPPIST-1e', 'PSO J318.5-22', '55 Cancri e', nan], dtype=object)"
            ]
          },
          "metadata": {},
          "execution_count": 13
        }
      ]
    },
    {
      "cell_type": "markdown",
      "source": [
        "### Show statistic of specific data"
      ],
      "metadata": {
        "id": "TfFSK7b0-v-o"
      }
    },
    {
      "cell_type": "code",
      "source": [
        "df.count_column_condition(\"Destination\", \"Transported\", False)"
      ],
      "metadata": {
        "colab": {
          "base_uri": "https://localhost:8080/"
        },
        "id": "vpL2jy0-91WN",
        "outputId": "11f20cf1-3427-41ae-99a9-fc3ac8926e7f"
      },
      "execution_count": 14,
      "outputs": [
        {
          "output_type": "execute_result",
          "data": {
            "text/plain": [
              "Destination\n",
              "55 Cancri e       702\n",
              "PSO J318.5-22     395\n",
              "TRAPPIST-1e      3128\n",
              "Name: Transported, dtype: int64"
            ]
          },
          "metadata": {},
          "execution_count": 14
        }
      ]
    },
    {
      "cell_type": "code",
      "source": [
        "df.count_column_condition(\"Destination\", \"Transported\", True)"
      ],
      "metadata": {
        "colab": {
          "base_uri": "https://localhost:8080/"
        },
        "id": "L-YkBzfh-07x",
        "outputId": "0d7633c9-851f-4548-9da3-6b021c738d9b"
      },
      "execution_count": 15,
      "outputs": [
        {
          "output_type": "execute_result",
          "data": {
            "text/plain": [
              "Destination\n",
              "55 Cancri e      1098\n",
              "PSO J318.5-22     401\n",
              "TRAPPIST-1e      2787\n",
              "Name: Transported, dtype: int64"
            ]
          },
          "metadata": {},
          "execution_count": 15
        }
      ]
    },
    {
      "cell_type": "code",
      "source": [
        "df.count_column_condition(\"HomePlanet\", \"Transported\", False)"
      ],
      "metadata": {
        "colab": {
          "base_uri": "https://localhost:8080/"
        },
        "id": "I0vzY_5X91IX",
        "outputId": "73376747-969d-47b9-f31a-72f9cc32c686"
      },
      "execution_count": 16,
      "outputs": [
        {
          "output_type": "execute_result",
          "data": {
            "text/plain": [
              "HomePlanet\n",
              "Earth     2651\n",
              "Europa     727\n",
              "Mars       839\n",
              "Name: Transported, dtype: int64"
            ]
          },
          "metadata": {},
          "execution_count": 16
        }
      ]
    },
    {
      "cell_type": "code",
      "source": [
        "df.count_column_condition(\"HomePlanet\", \"Transported\", True)"
      ],
      "metadata": {
        "colab": {
          "base_uri": "https://localhost:8080/"
        },
        "id": "HkbcAcoM_Uv_",
        "outputId": "1f743896-edaf-40e8-ecba-2c8601668610"
      },
      "execution_count": 17,
      "outputs": [
        {
          "output_type": "execute_result",
          "data": {
            "text/plain": [
              "HomePlanet\n",
              "Earth     1951\n",
              "Europa    1404\n",
              "Mars       920\n",
              "Name: Transported, dtype: int64"
            ]
          },
          "metadata": {},
          "execution_count": 17
        }
      ]
    },
    {
      "cell_type": "code",
      "source": [
        "df.count_column_condition(\"CryoSleep\", \"Transported\", False)"
      ],
      "metadata": {
        "colab": {
          "base_uri": "https://localhost:8080/"
        },
        "id": "0184uPCBAMtZ",
        "outputId": "7e961268-5f9a-45cc-dd8e-c4c8a3b2daf9"
      },
      "execution_count": 18,
      "outputs": [
        {
          "output_type": "execute_result",
          "data": {
            "text/plain": [
              "CryoSleep\n",
              "False    3650\n",
              "True      554\n",
              "Name: Transported, dtype: int64"
            ]
          },
          "metadata": {},
          "execution_count": 18
        }
      ]
    },
    {
      "cell_type": "code",
      "source": [
        "df.count_column_condition(\"CryoSleep\", \"Transported\", True)"
      ],
      "metadata": {
        "colab": {
          "base_uri": "https://localhost:8080/"
        },
        "id": "Q0OBuFIwANHX",
        "outputId": "bf396fcb-6a0e-454d-872f-1c2fc6b88e37"
      },
      "execution_count": 19,
      "outputs": [
        {
          "output_type": "execute_result",
          "data": {
            "text/plain": [
              "CryoSleep\n",
              "False    1789\n",
              "True     2483\n",
              "Name: Transported, dtype: int64"
            ]
          },
          "metadata": {},
          "execution_count": 19
        }
      ]
    },
    {
      "cell_type": "code",
      "source": [
        "df.count_column_condition(\"VIP\", \"Transported\", True)"
      ],
      "metadata": {
        "colab": {
          "base_uri": "https://localhost:8080/"
        },
        "id": "GrJY5WgWAY66",
        "outputId": "bfe20e07-8850-4db8-df82-eb14b7c37fd0"
      },
      "execution_count": 20,
      "outputs": [
        {
          "output_type": "execute_result",
          "data": {
            "text/plain": [
              "VIP\n",
              "False    4198\n",
              "True       76\n",
              "Name: Transported, dtype: int64"
            ]
          },
          "metadata": {},
          "execution_count": 20
        }
      ]
    },
    {
      "cell_type": "code",
      "source": [
        "df.count_column_condition(\"VIP\", \"Transported\", False)"
      ],
      "metadata": {
        "colab": {
          "base_uri": "https://localhost:8080/"
        },
        "id": "YnhMI0BmAZ4_",
        "outputId": "f0a5ec16-9486-4aa4-e5f1-e7ae5111481d"
      },
      "execution_count": 21,
      "outputs": [
        {
          "output_type": "execute_result",
          "data": {
            "text/plain": [
              "VIP\n",
              "False    4093\n",
              "True      123\n",
              "Name: Transported, dtype: int64"
            ]
          },
          "metadata": {},
          "execution_count": 21
        }
      ]
    },
    {
      "cell_type": "code",
      "source": [],
      "metadata": {
        "id": "ZEcvsBNrqhEV"
      },
      "execution_count": 21,
      "outputs": []
    },
    {
      "cell_type": "code",
      "source": [
        "df.count_column_condition(\"RoomService\", \"Transported\", False)"
      ],
      "metadata": {
        "colab": {
          "base_uri": "https://localhost:8080/"
        },
        "id": "_X5o0strAkH4",
        "outputId": "d83bf16d-a2b0-434e-a5e6-1890ca7da38b"
      },
      "execution_count": 22,
      "outputs": [
        {
          "output_type": "execute_result",
          "data": {
            "text/plain": [
              "RoomService\n",
              "0.0        2045\n",
              "1.0          77\n",
              "2.0          47\n",
              "3.0          37\n",
              "4.0          38\n",
              "           ... \n",
              "8209.0        1\n",
              "8243.0        1\n",
              "8586.0        1\n",
              "9920.0        1\n",
              "14327.0       1\n",
              "Name: Transported, Length: 1273, dtype: int64"
            ]
          },
          "metadata": {},
          "execution_count": 22
        }
      ]
    },
    {
      "cell_type": "code",
      "source": [
        "df.count_column_condition(\"RoomService\", \"Transported\", True)"
      ],
      "metadata": {
        "colab": {
          "base_uri": "https://localhost:8080/"
        },
        "id": "sNSDYbrwAlCX",
        "outputId": "23cf6254-96f2-4902-9a8c-9750dc65c2a9"
      },
      "execution_count": 23,
      "outputs": [
        {
          "output_type": "execute_result",
          "data": {
            "text/plain": [
              "RoomService\n",
              "0.0        3532\n",
              "1.0          40\n",
              "2.0          32\n",
              "3.0          24\n",
              "4.0           9\n",
              "           ... \n",
              "8209.0        0\n",
              "8243.0        0\n",
              "8586.0        0\n",
              "9920.0        0\n",
              "14327.0       0\n",
              "Name: Transported, Length: 1273, dtype: int64"
            ]
          },
          "metadata": {},
          "execution_count": 23
        }
      ]
    },
    {
      "cell_type": "code",
      "source": [
        "df = pd.read_csv(\"/content/train.csv\")\n",
        "df = ModelData(df)\n",
        "df_help = df.return_dataframe()\n",
        "df_help['Cabin'] = df_help['Cabin'].str.replace(r'^A/\\d+/\\D+', 'useless')\n",
        "df_help['Cabin'] = df_help['Cabin'].str.replace(r'^B/\\d+/\\D+', 'high')\n",
        "df_help['Cabin'] = df_help['Cabin'].str.replace(r'^C/\\d+/\\D+', 'high')\n",
        "df_help['Cabin'] = df_help['Cabin'].str.replace(r'^D/\\d+/\\D+', 'useless')\n",
        "df_help['Cabin'] = df_help['Cabin'].str.replace(r'^E/\\d+/\\D+', 'low')\n",
        "df_help['Cabin'] = df_help['Cabin'].str.replace(r'^T/\\d+/\\D+', 'useless')\n",
        "df_help['Cabin'] = df_help['Cabin'].str.replace(r'^G/\\d+/\\D+', 'useless')\n",
        "df_help['Cabin'] = df_help['Cabin'].str.replace(r'^F/\\d+/\\D+', 'useless')\n",
        "df = ModelData(df_help)"
      ],
      "metadata": {
        "colab": {
          "base_uri": "https://localhost:8080/"
        },
        "id": "vr2_5qhjeqxF",
        "outputId": "a66e7367-b6dc-4f6f-891b-3875d36dc501"
      },
      "execution_count": 24,
      "outputs": [
        {
          "output_type": "stream",
          "name": "stderr",
          "text": [
            "<ipython-input-24-78fb7ce9dc41>:4: FutureWarning: The default value of regex will change from True to False in a future version.\n",
            "  df_help['Cabin'] = df_help['Cabin'].str.replace(r'^A/\\d+/\\D+', 'useless')\n",
            "<ipython-input-24-78fb7ce9dc41>:5: FutureWarning: The default value of regex will change from True to False in a future version.\n",
            "  df_help['Cabin'] = df_help['Cabin'].str.replace(r'^B/\\d+/\\D+', 'high')\n",
            "<ipython-input-24-78fb7ce9dc41>:6: FutureWarning: The default value of regex will change from True to False in a future version.\n",
            "  df_help['Cabin'] = df_help['Cabin'].str.replace(r'^C/\\d+/\\D+', 'high')\n",
            "<ipython-input-24-78fb7ce9dc41>:7: FutureWarning: The default value of regex will change from True to False in a future version.\n",
            "  df_help['Cabin'] = df_help['Cabin'].str.replace(r'^D/\\d+/\\D+', 'useless')\n",
            "<ipython-input-24-78fb7ce9dc41>:8: FutureWarning: The default value of regex will change from True to False in a future version.\n",
            "  df_help['Cabin'] = df_help['Cabin'].str.replace(r'^E/\\d+/\\D+', 'low')\n",
            "<ipython-input-24-78fb7ce9dc41>:9: FutureWarning: The default value of regex will change from True to False in a future version.\n",
            "  df_help['Cabin'] = df_help['Cabin'].str.replace(r'^T/\\d+/\\D+', 'useless')\n",
            "<ipython-input-24-78fb7ce9dc41>:10: FutureWarning: The default value of regex will change from True to False in a future version.\n",
            "  df_help['Cabin'] = df_help['Cabin'].str.replace(r'^G/\\d+/\\D+', 'useless')\n",
            "<ipython-input-24-78fb7ce9dc41>:11: FutureWarning: The default value of regex will change from True to False in a future version.\n",
            "  df_help['Cabin'] = df_help['Cabin'].str.replace(r'^F/\\d+/\\D+', 'useless')\n"
          ]
        }
      ]
    },
    {
      "cell_type": "code",
      "source": [
        "df.count_column_condition(\"Cabin\", \"Transported\", True)"
      ],
      "metadata": {
        "colab": {
          "base_uri": "https://localhost:8080/"
        },
        "id": "rEgPq_4QfIel",
        "outputId": "5d68fdfe-0543-40ee-fc6a-f6edd3d57044"
      },
      "execution_count": 25,
      "outputs": [
        {
          "output_type": "execute_result",
          "data": {
            "text/plain": [
              "Cabin\n",
              "high       1080\n",
              "low         313\n",
              "useless    2885\n",
              "Name: Transported, dtype: int64"
            ]
          },
          "metadata": {},
          "execution_count": 25
        }
      ]
    },
    {
      "cell_type": "code",
      "source": [
        "df.count_column_condition(\"Cabin\", \"Transported\", False)"
      ],
      "metadata": {
        "colab": {
          "base_uri": "https://localhost:8080/"
        },
        "id": "T0_dPGG4fJfz",
        "outputId": "ccdc5ec0-761f-4c75-e35b-58a570099e94"
      },
      "execution_count": 26,
      "outputs": [
        {
          "output_type": "execute_result",
          "data": {
            "text/plain": [
              "Cabin\n",
              "high        446\n",
              "low         563\n",
              "useless    3207\n",
              "Name: Transported, dtype: int64"
            ]
          },
          "metadata": {},
          "execution_count": 26
        }
      ]
    },
    {
      "cell_type": "code",
      "source": [
        "df.show_corr()"
      ],
      "metadata": {
        "colab": {
          "base_uri": "https://localhost:8080/",
          "height": 922
        },
        "id": "RwLLe5_Bfq1s",
        "outputId": "26b38c21-af05-4084-9ca3-2c2bbb322708"
      },
      "execution_count": 27,
      "outputs": [
        {
          "output_type": "display_data",
          "data": {
            "text/plain": [
              "<Figure size 1152x1152 with 2 Axes>"
            ],
            "image/png": "[encoded data removed]"
          },
          "metadata": {
            "needs_background": "light"
          }
        }
      ]
    },
    {
      "cell_type": "code",
      "source": [
        "df.fix_columns([\"Age\", \"Spa\", \"ShoppingMall\", \"FoodCourt\", \"VRDeck\", \"RoomService\"], method=\"mean\")\n",
        "\n",
        "# ['HomePlanet', 'CryoSleep', 'Cabin', 'Destination', 'Age', 'VIP',\n",
        "#        'RoomService', 'FoodCourt', 'ShoppingMall', 'Spa', 'VRDeck', 'Name']\n",
        "\n",
        "df.fix_columns_values([\"Age\",\"VRDeck\",\"Spa\",\"ShoppingMall\",\"FoodCourt\",\"RoomService\"],[-0.1,-0.1,-0.1,-0.1,-0.1,-0.1])"
      ],
      "metadata": {
        "id": "9oiR4M5Qv_cj"
      },
      "execution_count": 28,
      "outputs": []
    },
    {
      "cell_type": "code",
      "source": [
        "df.show_normal_distribution_label(\"Transported\",[\"Age\", \"VRDeck\", \"Spa\", \"ShoppingMall\", \"FoodCourt\", \"RoomService\"])"
      ],
      "metadata": {
        "colab": {
          "base_uri": "https://localhost:8080/",
          "height": 1000
        },
        "id": "RcsqQJyds-ty",
        "outputId": "2e655493-f78d-40e7-f89e-6cc86c530398"
      },
      "execution_count": 29,
      "outputs": [
        {
          "output_type": "display_data",
          "data": {
            "text/plain": [
              "<Figure size 720x720 with 1 Axes>"
            ],
            "image/png": "[encoded data removed]"
          },
          "metadata": {
            "needs_background": "light"
          }
        },
        {
          "output_type": "display_data",
          "data": {
            "text/plain": [
              "<Figure size 720x720 with 1 Axes>"
            ],
            "image/png": "[encoded data removed]"
          },
          "metadata": {
            "needs_background": "light"
          }
        },
        {
          "output_type": "display_data",
          "data": {
            "text/plain": [
              "<Figure size 720x720 with 1 Axes>"
            ],
            "image/png": "[encoded data removed]"
          },
          "metadata": {
            "needs_background": "light"
          }
        },
        {
          "output_type": "display_data",
          "data": {
            "text/plain": [
              "<Figure size 720x720 with 1 Axes>"
            ],
            "image/png": "[encoded data removed]"
          },
          "metadata": {
            "needs_background": "light"
          }
        },
        {
          "output_type": "display_data",
          "data": {
            "text/plain": [
              "<Figure size 720x720 with 1 Axes>"
            ],
            "image/png": "[encoded data removed]"
          },
          "metadata": {
            "needs_background": "light"
          }
        },
        {
          "output_type": "display_data",
          "data": {
            "text/plain": [
              "<Figure size 720x720 with 1 Axes>"
            ],
            "image/png": "[encoded data removed]"
          },
          "metadata": {
            "needs_background": "light"
          }
        }
      ]
    },
    {
      "cell_type": "markdown",
      "source": [
        "## Preparing data"
      ],
      "metadata": {
        "id": "ew3oQf_HDqyK"
      }
    },
    {
      "cell_type": "code",
      "source": [
        "def preparing_data(df):\n",
        "  df.fix_columns([\"Age\", \"Spa\", \"ShoppingMall\", \"FoodCourt\", \"VRDeck\", \"RoomService\"], method=\"mean\")\n",
        "  df.fix_columns_values([\"Age\",\"VRDeck\",\"Spa\",\"ShoppingMall\",\"FoodCourt\",\"RoomService\"],[-0.1,-0.1,-0.1,-0.1,-0.1,-0.1])\n",
        "  df_help = df.return_dataframe()\n",
        "  df_help[\"Age\"] = df_help['Age'].apply(lambda x: 'low' if x < 14 else (\"useless\" if x < 18 else (\"high\" if x < 32 else \"useless\")))\n",
        "  df_help['Spa'] = df_help['Spa'].apply(lambda x: 'low' if x < 80 else (\"useless\" if x < 100 else (\"high\" if x < 1100 else \"useless\")))\n",
        "  df_help['VRDeck'] = df_help['VRDeck'].apply(lambda x: 'low' if x < 100 else (\"middle\" if x < 1300 else \"useless\"))\n",
        "  df_help['RoomService'] = df_help['RoomService'].apply(lambda x: 'low' if x < 80 else \"useless\")\n",
        "  df_help[\"ShoppingMall\"] = df_help['ShoppingMall'].apply(lambda x: 'low' if x < 90 else \"useless\")\n",
        "  df_help[\"FoodCourt\"] = df_help['FoodCourt'].apply(lambda x: 'low' if x < 350 else \"useless\")\n",
        "\n",
        "  df_help['Cabin'] = df_help['Cabin'].str.replace(r'^A/\\d+/\\D+', 'useless')\n",
        "  df_help['Cabin'] = df_help['Cabin'].str.replace(r'^B/\\d+/\\D+', 'high')\n",
        "  df_help['Cabin'] = df_help['Cabin'].str.replace(r'^C/\\d+/\\D+', 'high')\n",
        "  df_help['Cabin'] = df_help['Cabin'].str.replace(r'^D/\\d+/\\D+', 'useless')\n",
        "  df_help['Cabin'] = df_help['Cabin'].str.replace(r'^E/\\d+/\\D+', 'low')\n",
        "  df_help['Cabin'] = df_help['Cabin'].str.replace(r'^T/\\d+/\\D+', 'useless')\n",
        "  df_help['Cabin'] = df_help['Cabin'].str.replace(r'^G/\\d+/\\D+', 'useless')\n",
        "  df_help['Cabin'] = df_help['Cabin'].str.replace(r'^F/\\d+/\\D+', 'useless')\n",
        "\n",
        "  df = ModelData(df_help)\n",
        "  df.delete_columns([\"PassengerId\", \"VIP\", \"Name\"])\n",
        "  df.dummies([\"Destination\",\"HomePlanet\",\"CryoSleep\",\"ShoppingMall\",\"FoodCourt\", \"Spa\", \"VRDeck\",\"Cabin\" ,\"RoomService\",\"Age\"])\n",
        "  df_train = df.return_dataframe()  \n",
        "  return df_train"
      ],
      "metadata": {
        "id": "E_BJy7148LO3"
      },
      "execution_count": 30,
      "outputs": []
    },
    {
      "cell_type": "code",
      "source": [
        "from sklearn.model_selection import GridSearchCV\n",
        "from sklearn.svm import LinearSVC\n",
        "from sklearn.linear_model import SGDClassifier\n",
        "from sklearn.neighbors import KNeighborsClassifier\n",
        "from sklearn.kernel_approximation import Nystroem\n",
        "from sklearn.svm import SVC\n",
        "import warnings\n",
        "from sklearn.exceptions import ConvergenceWarning\n",
        "warnings.filterwarnings(action='ignore', category=ConvergenceWarning)\n",
        "\n",
        "class Classification():\n",
        "  def __init__(self):\n",
        "    self.Linear_SVC = LinearSVC()\n",
        "    self.SGD_Classifier = SGDClassifier(max_iter=1000, tol=1e-3)\n",
        "    self.kernel_approximation = Nystroem(n_components=100)\n",
        "    self.KNeighbour_Classifier = KNeighborsClassifier()\n",
        "    self.SVC = SVC()\n",
        "    \n",
        "  ## Linear SVC\n",
        "  def create_linear_svc(self,X,y):\n",
        "    param_grid = {'C': [0.1,0.3,0.5,0.7,0.9,1,2,5,10],\n",
        "            'penalty': ['l2']}\n",
        "    svc = LinearSVC()\n",
        "    grid_search = GridSearchCV(svc, param_grid, cv=5)\n",
        "    grid_search.fit(X, y)\n",
        "    best_model = grid_search.best_estimator_\n",
        "    self.Linear_SVC = best_model\n",
        "\n",
        "  def score_linear_svc(self,X,y):\n",
        "    return self.Linear_SVC.score(X,y)\n",
        "\n",
        "  def evaluate_linear_svc(self, X):\n",
        "    return self.Linear_SVC.predict(X)\n",
        "\n",
        "  def get_linear_svc(self):\n",
        "    return self.Linear_SVC\n",
        "\n",
        "  #SGD_Classifier\n",
        "  def create_sgd_classifier(self,X,y):\n",
        "    param_grid = {\n",
        "    'loss': ['hinge', 'log_loss', 'modified_huber','perceptron'],\n",
        "    'penalty': ['l2', 'l1', 'elasticnet'],\n",
        "    'alpha': [0.001, 0.01, 0.1,0.5],\n",
        "    'max_iter': [1000, 5000]\n",
        "    }\n",
        "    sgd = SGDClassifier()\n",
        "    grid_search = GridSearchCV(sgd, param_grid, cv=5)\n",
        "    grid_search.fit(X, y)\n",
        "    best_model = grid_search.best_estimator_\n",
        "    self.SGD_Classifier = best_model\n",
        "\n",
        "  def score_sgd_classifier(self,X,y):\n",
        "    return self.SGD_Classifier.score(X,y)\n",
        "\n",
        "  def evaluate_sgd_classifier(self, X):\n",
        "    return self.SGD_Classifier.predict(X)\n",
        "\n",
        "  def get_sgd_classifier(self):\n",
        "    return self.SGD_Classifier\n",
        "\n",
        "  ## kernel_approximation\n",
        "  def create_kernel_approximation(self,X,y):\n",
        "    kernel_approx = Nystroem(n_components=100)\n",
        "    data = kernel_approx.fit_transform(X)\n",
        "    self.create_linear_svc(data,y)\n",
        "    self.kernel_approximation = self.get_linear_svc()\n",
        "\n",
        "  def score_kernel_approximation(self,X,y):\n",
        "    return self.kernel_approximation(X,y)\n",
        "\n",
        "  def evaluate_kernel_approximation(self, X):\n",
        "    return self.kernel_approximation.predict(X)\n",
        "\n",
        "  def get_kernel_approximation(self):\n",
        "    return self.kernel_approximation\n",
        "\n",
        "  ##KNeighbour Classifier\n",
        "  def create_kn_classifier(self,X,y):\n",
        "    param_grid = {'n_neighbors': [2,3,5,10,15,20],\n",
        "            'weights': ['uniform', 'distance']}\n",
        "    knc = KNeighborsClassifier()\n",
        "    grid_search = GridSearchCV(knc, param_grid, cv=5)\n",
        "    grid_search.fit(X, y)\n",
        "    best_model = grid_search.best_estimator_\n",
        "    self.KNeighbour_Classifier = best_model\n",
        "\n",
        "  def score_kn_classifier(self,X,y):\n",
        "    return self.KNeighbour_Classifier.score(X,y)\n",
        "\n",
        "  def evaluate_kn_classifier(self, X):\n",
        "    return self.KNeighbour_Classifier.predict(X)\n",
        "\n",
        "  def get_kn_classifier(self):\n",
        "    return self.KNeighbour_Classifier\n",
        "\n",
        "  ##SVC\n",
        "  def create_svc(self,X,y):\n",
        "    param_grid = {'C': [0.1,0.2,0.3,0.4,0.5,0.7,0.8,0.9, 1,1.2,1.5,2,3,5,7,10],\n",
        "              'kernel': ['linear', 'rbf', 'poly', 'sigmoid'],\n",
        "              'gamma': ['scale', 'auto']}\n",
        "    svc = SVC()\n",
        "    grid_search = GridSearchCV(svc, param_grid, cv=5)\n",
        "    grid_search.fit(X, y)\n",
        "    best_model = grid_search.best_estimator_\n",
        "    self.SVC = best_model\n",
        "\n",
        "  def score_svc(self,X,y):\n",
        "    return self.SVC.score(X,y)\n",
        "\n",
        "  def evaluate_svc(self, X):\n",
        "    return self.SVC.predict(X)\n",
        "\n",
        "  def get_svc(self):\n",
        "    return self.SVC\n",
        "\n",
        "  def train_all_models(self, X,y):\n",
        "    self.create_sgd_classifier(X,y)\n",
        "    print(\"SGD_model created\")\n",
        "    self.create_linear_svc(X,y)\n",
        "    print(\"Linear_SVC created\")\n",
        "    self.create_kn_classifier(X,y)\n",
        "    print(\"KNeighbours created\")\n",
        "    self.create_svc(X,y)\n",
        "    print(\"SVC created\")\n",
        "\n",
        "  def compare_model_all(self):\n",
        "    df = pd.DataFrame(data={\"Linear_SVC\":self.score_kn_classifier(X,y),\n",
        "                            \"SGD_classifier\": self.score_sgd_classifier(X,y),\n",
        "                            \"KNeighbour\":self.score_kn_classifier(X,y),\n",
        "                            \"SVC\": self.score_svc(X,y)},\n",
        "                       index=[\"accuracy\"])\n",
        "    return df.transpose()"
      ],
      "metadata": {
        "id": "dtJP0T8uDtII"
      },
      "execution_count": 31,
      "outputs": []
    },
    {
      "cell_type": "code",
      "source": [
        "df = pd.read_csv(\"/content/train.csv\")\n",
        "df_model = ModelData(df)\n",
        "df = preparing_data(df_model)\n",
        "X = df.drop(\"Transported\", axis=1)\n",
        "y = df[\"Transported\"]\n"
      ],
      "metadata": {
        "id": "ZbD6qjbKDbgo",
        "colab": {
          "base_uri": "https://localhost:8080/"
        },
        "outputId": "9a4d4ec7-85f9-4f2e-c68a-29cede6fa131"
      },
      "execution_count": 32,
      "outputs": [
        {
          "output_type": "stream",
          "name": "stderr",
          "text": [
            "<ipython-input-30-d0a3d108f469>:12: FutureWarning: The default value of regex will change from True to False in a future version.\n",
            "  df_help['Cabin'] = df_help['Cabin'].str.replace(r'^A/\\d+/\\D+', 'useless')\n",
            "<ipython-input-30-d0a3d108f469>:13: FutureWarning: The default value of regex will change from True to False in a future version.\n",
            "  df_help['Cabin'] = df_help['Cabin'].str.replace(r'^B/\\d+/\\D+', 'high')\n",
            "<ipython-input-30-d0a3d108f469>:14: FutureWarning: The default value of regex will change from True to False in a future version.\n",
            "  df_help['Cabin'] = df_help['Cabin'].str.replace(r'^C/\\d+/\\D+', 'high')\n",
            "<ipython-input-30-d0a3d108f469>:15: FutureWarning: The default value of regex will change from True to False in a future version.\n",
            "  df_help['Cabin'] = df_help['Cabin'].str.replace(r'^D/\\d+/\\D+', 'useless')\n",
            "<ipython-input-30-d0a3d108f469>:16: FutureWarning: The default value of regex will change from True to False in a future version.\n",
            "  df_help['Cabin'] = df_help['Cabin'].str.replace(r'^E/\\d+/\\D+', 'low')\n",
            "<ipython-input-30-d0a3d108f469>:17: FutureWarning: The default value of regex will change from True to False in a future version.\n",
            "  df_help['Cabin'] = df_help['Cabin'].str.replace(r'^T/\\d+/\\D+', 'useless')\n",
            "<ipython-input-30-d0a3d108f469>:18: FutureWarning: The default value of regex will change from True to False in a future version.\n",
            "  df_help['Cabin'] = df_help['Cabin'].str.replace(r'^G/\\d+/\\D+', 'useless')\n",
            "<ipython-input-30-d0a3d108f469>:19: FutureWarning: The default value of regex will change from True to False in a future version.\n",
            "  df_help['Cabin'] = df_help['Cabin'].str.replace(r'^F/\\d+/\\D+', 'useless')\n"
          ]
        }
      ]
    },
    {
      "cell_type": "code",
      "source": [
        "model = Classification()"
      ],
      "metadata": {
        "id": "b5brXJHZwXwb"
      },
      "execution_count": 33,
      "outputs": []
    },
    {
      "cell_type": "code",
      "source": [
        "model.train_all_models(X,y)"
      ],
      "metadata": {
        "colab": {
          "base_uri": "https://localhost:8080/"
        },
        "id": "2OONrWvfyPbv",
        "outputId": "4c73bb95-25fc-4352-8c1c-7cc4c244a0f2"
      },
      "execution_count": 34,
      "outputs": [
        {
          "output_type": "stream",
          "name": "stdout",
          "text": [
            "SGD_model created\n",
            "Linear_SVC created\n",
            "KNeighbours created\n",
            "SVC created\n"
          ]
        }
      ]
    },
    {
      "cell_type": "code",
      "source": [
        "model.compare_model_all()"
      ],
      "metadata": {
        "id": "2YBee1FaEmIa",
        "colab": {
          "base_uri": "https://localhost:8080/",
          "height": 175
        },
        "outputId": "ffabc6b0-74c6-4008-b526-a49f39db2ad2"
      },
      "execution_count": 35,
      "outputs": [
        {
          "output_type": "execute_result",
          "data": {
            "text/plain": [
              "                accuracy\n",
              "Linear_SVC      0.788220\n",
              "SGD_classifier  0.782469\n",
              "KNeighbour      0.788220\n",
              "SVC             0.796963"
            ],
            "text/html": [
              "\n",
              "  <div id=\"df-7257f13a-ebca-4ccd-837c-b350db5e3561\">\n",
              "    <div class=\"colab-df-container\">\n",
              "      <div>\n",
              "<style scoped>\n",
              "    .dataframe tbody tr th:only-of-type {\n",
              "        vertical-align: middle;\n",
              "    }\n",
              "\n",
              "    .dataframe tbody tr th {\n",
              "        vertical-align: top;\n",
              "    }\n",
              "\n",
              "    .dataframe thead th {\n",
              "        text-align: right;\n",
              "    }\n",
              "</style>\n",
              "<table border=\"1\" class=\"dataframe\">\n",
              "  <thead>\n",
              "    <tr style=\"text-align: right;\">\n",
              "      <th></th>\n",
              "      <th>accuracy</th>\n",
              "    </tr>\n",
              "  </thead>\n",
              "  <tbody>\n",
              "    <tr>\n",
              "      <th>Linear_SVC</th>\n",
              "      <td>0.788220</td>\n",
              "    </tr>\n",
              "    <tr>\n",
              "      <th>SGD_classifier</th>\n",
              "      <td>0.782469</td>\n",
              "    </tr>\n",
              "    <tr>\n",
              "      <th>KNeighbour</th>\n",
              "      <td>0.788220</td>\n",
              "    </tr>\n",
              "    <tr>\n",
              "      <th>SVC</th>\n",
              "      <td>0.796963</td>\n",
              "    </tr>\n",
              "  </tbody>\n",
              "</table>\n",
              "</div>\n",
              "      <button class=\"colab-df-convert\" onclick=\"convertToInteractive('df-7257f13a-ebca-4ccd-837c-b350db5e3561')\"\n",
              "              title=\"Convert this dataframe to an interactive table.\"\n",
              "              style=\"display:none;\">\n",
              "        \n",
              "  <svg xmlns=\"http://www.w3.org/2000/svg\" height=\"24px\"viewBox=\"0 0 24 24\"\n",
              "       width=\"24px\">\n",
              "    <path d=\"M0 0h24v24H0V0z\" fill=\"none\"/>\n",
              "    <path d=\"M18.56 5.44l.94 2.06.94-2.06 2.06-.94-2.06-.94-.94-2.06-.94 2.06-2.06.94zm-11 1L8.5 8.5l.94-2.06 2.06-.94-2.06-.94L8.5 2.5l-.94 2.06-2.06.94zm10 10l.94 2.06.94-2.06 2.06-.94-2.06-.94-.94-2.06-.94 2.06-2.06.94z\"/><path d=\"M17.41 7.96l-1.37-1.37c-.4-.4-.92-.59-1.43-.59-.52 0-1.04.2-1.43.59L10.3 9.45l-7.72 7.72c-.78.78-.78 2.05 0 2.83L4 21.41c.39.39.9.59 1.41.59.51 0 1.02-.2 1.41-.59l7.78-7.78 2.81-2.81c.8-.78.8-2.07 0-2.86zM5.41 20L4 18.59l7.72-7.72 1.47 1.35L5.41 20z\"/>\n",
              "  </svg>\n",
              "      </button>\n",
              "      \n",
              "  <style>\n",
              "    .colab-df-container {\n",
              "      display:flex;\n",
              "      flex-wrap:wrap;\n",
              "      gap: 12px;\n",
              "    }\n",
              "\n",
              "    .colab-df-convert {\n",
              "      background-color: #E8F0FE;\n",
              "      border: none;\n",
              "      border-radius: 50%;\n",
              "      cursor: pointer;\n",
              "      display: none;\n",
              "      fill: #1967D2;\n",
              "      height: 32px;\n",
              "      padding: 0 0 0 0;\n",
              "      width: 32px;\n",
              "    }\n",
              "\n",
              "    .colab-df-convert:hover {\n",
              "      background-color: #E2EBFA;\n",
              "      box-shadow: 0px 1px 2px rgba(60, 64, 67, 0.3), 0px 1px 3px 1px rgba(60, 64, 67, 0.15);\n",
              "      fill: #174EA6;\n",
              "    }\n",
              "\n",
              "    [theme=dark] .colab-df-convert {\n",
              "      background-color: #3B4455;\n",
              "      fill: #D2E3FC;\n",
              "    }\n",
              "\n",
              "    [theme=dark] .colab-df-convert:hover {\n",
              "      background-color: #434B5C;\n",
              "      box-shadow: 0px 1px 3px 1px rgba(0, 0, 0, 0.15);\n",
              "      filter: drop-shadow(0px 1px 2px rgba(0, 0, 0, 0.3));\n",
              "      fill: #FFFFFF;\n",
              "    }\n",
              "  </style>\n",
              "\n",
              "      <script>\n",
              "        const buttonEl =\n",
              "          document.querySelector('#df-7257f13a-ebca-4ccd-837c-b350db5e3561 button.colab-df-convert');\n",
              "        buttonEl.style.display =\n",
              "          google.colab.kernel.accessAllowed ? 'block' : 'none';\n",
              "\n",
              "        async function convertToInteractive(key) {\n",
              "          const element = document.querySelector('#df-7257f13a-ebca-4ccd-837c-b350db5e3561');\n",
              "          const dataTable =\n",
              "            await google.colab.kernel.invokeFunction('convertToInteractive',\n",
              "                                                     [key], {});\n",
              "          if (!dataTable) return;\n",
              "\n",
              "          const docLinkHtml = 'Like what you see? Visit the ' +\n",
              "            '<a target=\"_blank\" href=https://colab.research.google.com/notebooks/data_table.ipynb>data table notebook</a>'\n",
              "            + ' to learn more about interactive tables.';\n",
              "          element.innerHTML = '';\n",
              "          dataTable['output_type'] = 'display_data';\n",
              "          await google.colab.output.renderOutput(dataTable, element);\n",
              "          const docLink = document.createElement('div');\n",
              "          docLink.innerHTML = docLinkHtml;\n",
              "          element.appendChild(docLink);\n",
              "        }\n",
              "      </script>\n",
              "    </div>\n",
              "  </div>\n",
              "  "
            ]
          },
          "metadata": {},
          "execution_count": 35
        }
      ]
    },
    {
      "cell_type": "code",
      "source": [
        "from types import prepare_class\n",
        "df = pd.read_csv(\"/content/test.csv\")\n",
        "df = ModelData(df)\n",
        "df = preparing_data(df)\n",
        "X = df\n",
        "preds = model.evaluate_svc(X)"
      ],
      "metadata": {
        "id": "MRYcv3qPxYJF",
        "colab": {
          "base_uri": "https://localhost:8080/"
        },
        "outputId": "a41c89e6-68aa-483a-f210-4d3f85bd957d"
      },
      "execution_count": 58,
      "outputs": [
        {
          "output_type": "stream",
          "name": "stderr",
          "text": [
            "<ipython-input-30-d0a3d108f469>:12: FutureWarning: The default value of regex will change from True to False in a future version.\n",
            "  df_help['Cabin'] = df_help['Cabin'].str.replace(r'^A/\\d+/\\D+', 'useless')\n",
            "<ipython-input-30-d0a3d108f469>:13: FutureWarning: The default value of regex will change from True to False in a future version.\n",
            "  df_help['Cabin'] = df_help['Cabin'].str.replace(r'^B/\\d+/\\D+', 'high')\n",
            "<ipython-input-30-d0a3d108f469>:14: FutureWarning: The default value of regex will change from True to False in a future version.\n",
            "  df_help['Cabin'] = df_help['Cabin'].str.replace(r'^C/\\d+/\\D+', 'high')\n",
            "<ipython-input-30-d0a3d108f469>:15: FutureWarning: The default value of regex will change from True to False in a future version.\n",
            "  df_help['Cabin'] = df_help['Cabin'].str.replace(r'^D/\\d+/\\D+', 'useless')\n",
            "<ipython-input-30-d0a3d108f469>:16: FutureWarning: The default value of regex will change from True to False in a future version.\n",
            "  df_help['Cabin'] = df_help['Cabin'].str.replace(r'^E/\\d+/\\D+', 'low')\n",
            "<ipython-input-30-d0a3d108f469>:17: FutureWarning: The default value of regex will change from True to False in a future version.\n",
            "  df_help['Cabin'] = df_help['Cabin'].str.replace(r'^T/\\d+/\\D+', 'useless')\n",
            "<ipython-input-30-d0a3d108f469>:18: FutureWarning: The default value of regex will change from True to False in a future version.\n",
            "  df_help['Cabin'] = df_help['Cabin'].str.replace(r'^G/\\d+/\\D+', 'useless')\n",
            "<ipython-input-30-d0a3d108f469>:19: FutureWarning: The default value of regex will change from True to False in a future version.\n",
            "  df_help['Cabin'] = df_help['Cabin'].str.replace(r'^F/\\d+/\\D+', 'useless')\n"
          ]
        }
      ]
    },
    {
      "cell_type": "code",
      "source": [
        "df_sub = pd.read_csv(\"/content/sample_submission.csv\")\n",
        "df_sub[\"Transported\"] = preds"
      ],
      "metadata": {
        "id": "lw6tXNnzWgVM"
      },
      "execution_count": 59,
      "outputs": []
    },
    {
      "cell_type": "code",
      "source": [
        "df_sub.to_csv('data.csv', index=False)\n",
        "from google.colab import files\n",
        "files.download('data.csv')"
      ],
      "metadata": {
        "id": "7W2omXqSXIEO",
        "colab": {
          "base_uri": "https://localhost:8080/",
          "height": 17
        },
        "outputId": "cc603256-fdc1-49fd-9ef4-118c34762aec"
      },
      "execution_count": 60,
      "outputs": [
        {
          "output_type": "display_data",
          "data": {
            "text/plain": [
              "<IPython.core.display.Javascript object>"
            ],
            "application/javascript": [
              "\n",
              "    async function download(id, filename, size) {\n",
              "      if (!google.colab.kernel.accessAllowed) {\n",
              "        return;\n",
              "      }\n",
              "      const div = document.createElement('div');\n",
              "      const label = document.createElement('label');\n",
              "      label.textContent = `Downloading \"${filename}\": `;\n",
              "      div.appendChild(label);\n",
              "      const progress = document.createElement('progress');\n",
              "      progress.max = size;\n",
              "      div.appendChild(progress);\n",
              "      document.body.appendChild(div);\n",
              "\n",
              "      const buffers = [];\n",
              "      let downloaded = 0;\n",
              "\n",
              "      const channel = await google.colab.kernel.comms.open(id);\n",
              "      // Send a message to notify the kernel that we're ready.\n",
              "      channel.send({})\n",
              "\n",
              "      for await (const message of channel.messages) {\n",
              "        // Send a message to notify the kernel that we're ready.\n",
              "        channel.send({})\n",
              "        if (message.buffers) {\n",
              "          for (const buffer of message.buffers) {\n",
              "            buffers.push(buffer);\n",
              "            downloaded += buffer.byteLength;\n",
              "            progress.value = downloaded;\n",
              "          }\n",
              "        }\n",
              "      }\n",
              "      const blob = new Blob(buffers, {type: 'application/binary'});\n",
              "      const a = document.createElement('a');\n",
              "      a.href = window.URL.createObjectURL(blob);\n",
              "      a.download = filename;\n",
              "      div.appendChild(a);\n",
              "      a.click();\n",
              "      div.remove();\n",
              "    }\n",
              "  "
            ]
          },
          "metadata": {}
        },
        {
          "output_type": "display_data",
          "data": {
            "text/plain": [
              "<IPython.core.display.Javascript object>"
            ],
            "application/javascript": [
              "download(\"download_02735ae2-b90d-4c07-b1f4-a6d3c20fcf87\", \"data.csv\", 57654)"
            ]
          },
          "metadata": {}
        }
      ]
    },
    {
      "cell_type": "markdown",
      "source": [
        "### Trying to use Deep Learning"
      ],
      "metadata": {
        "id": "RQfzvgFoXnyk"
      }
    },
    {
      "cell_type": "code",
      "source": [
        "import tensorflow as tf\n",
        "from sklearn.metrics import confusion_matrix, ConfusionMatrixDisplay\n",
        "\n",
        "\n",
        "class Model_Keras_Dense:\n",
        "  def __init__(self):\n",
        "    self.model = tf.keras.Sequential()\n",
        "    self.history = []\n",
        "\n",
        "  def layers(self, dims, activation):\n",
        "    for dim in dims:\n",
        "      self.model.add(tf.keras.layers.Dense(dim, activation=activation))\n",
        "\n",
        "  def output_layer(self, dim, activation):\n",
        "    self.model.add(tf.keras.layers.Dense(dim, activation=activation))\n",
        "  \n",
        "  def compile(self, loss, optimizer, metrics):\n",
        "    self.model.compile(loss=loss, optimizer=optimizer, metrics=[metrics])\n",
        "\n",
        "  def train(self, x_train, y_train, x_val,y_val,epochs,batch_size=32):\n",
        "    self.history = self.model.fit(x_train,\n",
        "                                  y_train,\n",
        "                                  epochs=epochs,\n",
        "                                  batch_size=batch_size, \n",
        "                                  validation_data=(x_val,y_val))\n",
        "    \n",
        "  def evaluate(self, x_test, y_test):\n",
        "    loss, acc = self.model.evaluate(x_test, y_test)\n",
        "    return loss, acc\n",
        "\n",
        "  def predict(self, X):\n",
        "    return tf.squeeze(tf.round(self.model.predict(X)))\n",
        "\n",
        "  def plot_history(self):\n",
        "    '''\n",
        "    Takes history of our model and plot accuracy and loss function\n",
        "\n",
        "    parms:\n",
        "    history - model history\n",
        "\n",
        "    output:\n",
        "    -\n",
        "    '''\n",
        "    loss = self.history.history[\"loss\"]\n",
        "    acc = self.history.history[\"accuracy\"]\n",
        "    number_of_elements = len(loss)\n",
        "    epochs = np.linspace(1,number_of_elements,number_of_elements)\n",
        "\n",
        "    ## Plotting functions\n",
        "    fig,ax = plt.subplots(2,1, figsize=(10,7))\n",
        "    ax[0].plot(epochs, acc)\n",
        "    ax[0].set_title(\"Accuracy\")  \n",
        "    ax[1].plot(epochs, loss)\n",
        "    ax[1].set_title(\"Loss function\")\n",
        "    plt.show()\n",
        "\n",
        "  def show_confusion_matrix(self,X,y_true):\n",
        "    pred = self.predict(X)\n",
        "    confusion_matrix = confusion_matrix(y_true, pred)\n",
        "    cm_display = ConfusionMatrixDisplay(confusion_matrix = confusion_matrix)\n",
        "    cm_display.plot()\n",
        "    plt.show()\n",
        "\n"
      ],
      "metadata": {
        "id": "2BvpXvXVYx2m"
      },
      "execution_count": 39,
      "outputs": []
    },
    {
      "cell_type": "code",
      "source": [
        "from sklearn.model_selection import train_test_split\n",
        "import tensorflow as tf\n",
        "df = df_test = pd.read_csv(\"/content/train.csv\")\n",
        "df = ModelData(df)\n",
        "df = preparing_data(df)\n",
        "X = df.drop(\"Transported\", axis=1)\n",
        "y = df[\"Transported\"]\n",
        "X_train, X_test, y_train, y_test = train_test_split(X, y, test_size=0.2, random_state=42)\n"
      ],
      "metadata": {
        "id": "9nclF0SmXnWt",
        "colab": {
          "base_uri": "https://localhost:8080/"
        },
        "outputId": "7f31f247-918f-4ade-e583-5965c607f171"
      },
      "execution_count": 40,
      "outputs": [
        {
          "output_type": "stream",
          "name": "stderr",
          "text": [
            "<ipython-input-30-d0a3d108f469>:12: FutureWarning: The default value of regex will change from True to False in a future version.\n",
            "  df_help['Cabin'] = df_help['Cabin'].str.replace(r'^A/\\d+/\\D+', 'useless')\n",
            "<ipython-input-30-d0a3d108f469>:13: FutureWarning: The default value of regex will change from True to False in a future version.\n",
            "  df_help['Cabin'] = df_help['Cabin'].str.replace(r'^B/\\d+/\\D+', 'high')\n",
            "<ipython-input-30-d0a3d108f469>:14: FutureWarning: The default value of regex will change from True to False in a future version.\n",
            "  df_help['Cabin'] = df_help['Cabin'].str.replace(r'^C/\\d+/\\D+', 'high')\n",
            "<ipython-input-30-d0a3d108f469>:15: FutureWarning: The default value of regex will change from True to False in a future version.\n",
            "  df_help['Cabin'] = df_help['Cabin'].str.replace(r'^D/\\d+/\\D+', 'useless')\n",
            "<ipython-input-30-d0a3d108f469>:16: FutureWarning: The default value of regex will change from True to False in a future version.\n",
            "  df_help['Cabin'] = df_help['Cabin'].str.replace(r'^E/\\d+/\\D+', 'low')\n",
            "<ipython-input-30-d0a3d108f469>:17: FutureWarning: The default value of regex will change from True to False in a future version.\n",
            "  df_help['Cabin'] = df_help['Cabin'].str.replace(r'^T/\\d+/\\D+', 'useless')\n",
            "<ipython-input-30-d0a3d108f469>:18: FutureWarning: The default value of regex will change from True to False in a future version.\n",
            "  df_help['Cabin'] = df_help['Cabin'].str.replace(r'^G/\\d+/\\D+', 'useless')\n",
            "<ipython-input-30-d0a3d108f469>:19: FutureWarning: The default value of regex will change from True to False in a future version.\n",
            "  df_help['Cabin'] = df_help['Cabin'].str.replace(r'^F/\\d+/\\D+', 'useless')\n"
          ]
        }
      ]
    },
    {
      "cell_type": "code",
      "source": [
        "model_1 = Model_Keras_Dense()\n",
        "model_1.layers([100,100,10,10], \"relu\")\n",
        "model_1.output_layer(1,\"sigmoid\")\n",
        "model_1.compile(\"binary_crossentropy\", \"adam\", \"accuracy\")\n",
        "model_1.train(X_train,y_train,X_test,y_test,10)"
      ],
      "metadata": {
        "id": "wvcwb5qFb1RR",
        "colab": {
          "base_uri": "https://localhost:8080/"
        },
        "outputId": "9b168bcb-9c16-4f30-f335-0da32e4e0315"
      },
      "execution_count": 41,
      "outputs": [
        {
          "output_type": "stream",
          "name": "stdout",
          "text": [
            "Epoch 1/10\n",
            "218/218 [==============================] - 3s 4ms/step - loss: 0.4976 - accuracy: 0.7673 - val_loss: 0.4753 - val_accuracy: 0.7769\n",
            "Epoch 2/10\n",
            "218/218 [==============================] - 1s 3ms/step - loss: 0.4541 - accuracy: 0.7853 - val_loss: 0.4603 - val_accuracy: 0.7786\n",
            "Epoch 3/10\n",
            "218/218 [==============================] - 1s 4ms/step - loss: 0.4432 - accuracy: 0.7899 - val_loss: 0.4632 - val_accuracy: 0.7792\n",
            "Epoch 4/10\n",
            "218/218 [==============================] - 1s 3ms/step - loss: 0.4409 - accuracy: 0.7892 - val_loss: 0.4549 - val_accuracy: 0.7798\n",
            "Epoch 5/10\n",
            "218/218 [==============================] - 1s 3ms/step - loss: 0.4342 - accuracy: 0.7942 - val_loss: 0.4561 - val_accuracy: 0.7769\n",
            "Epoch 6/10\n",
            "218/218 [==============================] - 1s 3ms/step - loss: 0.4338 - accuracy: 0.7922 - val_loss: 0.4607 - val_accuracy: 0.7775\n",
            "Epoch 7/10\n",
            "218/218 [==============================] - 1s 3ms/step - loss: 0.4330 - accuracy: 0.7974 - val_loss: 0.4631 - val_accuracy: 0.7786\n",
            "Epoch 8/10\n",
            "218/218 [==============================] - 1s 3ms/step - loss: 0.4293 - accuracy: 0.7965 - val_loss: 0.4729 - val_accuracy: 0.7775\n",
            "Epoch 9/10\n",
            "218/218 [==============================] - 1s 4ms/step - loss: 0.4269 - accuracy: 0.7965 - val_loss: 0.4637 - val_accuracy: 0.7826\n",
            "Epoch 10/10\n",
            "218/218 [==============================] - 1s 3ms/step - loss: 0.4261 - accuracy: 0.7965 - val_loss: 0.4598 - val_accuracy: 0.7815\n"
          ]
        }
      ]
    },
    {
      "cell_type": "code",
      "source": [
        "model_1.plot_history()"
      ],
      "metadata": {
        "id": "QkMUFq13xDZc",
        "colab": {
          "base_uri": "https://localhost:8080/",
          "height": 444
        },
        "outputId": "e8abeaac-2a23-494d-d087-f53195e8abfa"
      },
      "execution_count": 42,
      "outputs": [
        {
          "output_type": "display_data",
          "data": {
            "text/plain": [
              "<Figure size 720x504 with 2 Axes>"
            ],
            "image/png": "[encoded data removed]"
          },
          "metadata": {
            "needs_background": "light"
          }
        }
      ]
    },
    {
      "cell_type": "markdown",
      "source": [
        "## CatClassifier"
      ],
      "metadata": {
        "id": "5BaVBGiG3MP7"
      }
    },
    {
      "cell_type": "code",
      "source": [
        "!pip install catboost\n",
        "from catboost import CatBoostClassifier\n",
        "df = pd.read_csv(\"/content/train.csv\")\n",
        "df_model = ModelData(df)\n",
        "df = preparing_data(df_model)\n",
        "X = df.drop(\"Transported\", axis=1)\n",
        "y = df[\"Transported\"]\n",
        "\n",
        "\n",
        "model_cat = CatBoostClassifier(iterations=1000, \n",
        "                            learning_rate=0.1, \n",
        "                            loss_function='Logloss',\n",
        "                            verbose=)\n",
        "model_cat.fit(X, y)"
      ],
      "metadata": {
        "colab": {
          "base_uri": "https://localhost:8080/",
          "height": 825
        },
        "id": "5Z8HnoBp2qMI",
        "outputId": "dc5abbc1-260c-41e6-8fc5-a381160fc434"
      },
      "execution_count": 57,
      "outputs": [
        {
          "output_type": "stream",
          "name": "stdout",
          "text": [
            "Looking in indexes: https://pypi.org/simple, https://us-python.pkg.dev/colab-wheels/public/simple/\n",
            "Requirement already satisfied: catboost in /usr/local/lib/python3.8/dist-packages (1.1.1)\n",
            "Requirement already satisfied: matplotlib in /usr/local/lib/python3.8/dist-packages (from catboost) (3.5.3)\n",
            "Requirement already satisfied: plotly in /usr/local/lib/python3.8/dist-packages (from catboost) (5.5.0)\n",
            "Requirement already satisfied: graphviz in /usr/local/lib/python3.8/dist-packages (from catboost) (0.10.1)\n",
            "Requirement already satisfied: six in /usr/local/lib/python3.8/dist-packages (from catboost) (1.15.0)\n",
            "Requirement already satisfied: numpy>=1.16.0 in /usr/local/lib/python3.8/dist-packages (from catboost) (1.22.4)\n",
            "Requirement already satisfied: scipy in /usr/local/lib/python3.8/dist-packages (from catboost) (1.10.1)\n",
            "Requirement already satisfied: pandas>=0.24.0 in /usr/local/lib/python3.8/dist-packages (from catboost) (1.3.5)\n",
            "Requirement already satisfied: pytz>=2017.3 in /usr/local/lib/python3.8/dist-packages (from pandas>=0.24.0->catboost) (2022.7.1)\n",
            "Requirement already satisfied: python-dateutil>=2.7.3 in /usr/local/lib/python3.8/dist-packages (from pandas>=0.24.0->catboost) (2.8.2)\n",
            "Requirement already satisfied: pyparsing>=2.2.1 in /usr/local/lib/python3.8/dist-packages (from matplotlib->catboost) (3.0.9)\n",
            "Requirement already satisfied: fonttools>=4.22.0 in /usr/local/lib/python3.8/dist-packages (from matplotlib->catboost) (4.38.0)\n",
            "Requirement already satisfied: packaging>=20.0 in /usr/local/lib/python3.8/dist-packages (from matplotlib->catboost) (23.0)\n",
            "Requirement already satisfied: kiwisolver>=1.0.1 in /usr/local/lib/python3.8/dist-packages (from matplotlib->catboost) (1.4.4)\n",
            "Requirement already satisfied: pillow>=6.2.0 in /usr/local/lib/python3.8/dist-packages (from matplotlib->catboost) (8.4.0)\n",
            "Requirement already satisfied: cycler>=0.10 in /usr/local/lib/python3.8/dist-packages (from matplotlib->catboost) (0.11.0)\n",
            "Requirement already satisfied: tenacity>=6.2.0 in /usr/local/lib/python3.8/dist-packages (from plotly->catboost) (8.2.2)\n"
          ]
        },
        {
          "output_type": "stream",
          "name": "stderr",
          "text": [
            "<ipython-input-30-d0a3d108f469>:12: FutureWarning: The default value of regex will change from True to False in a future version.\n",
            "  df_help['Cabin'] = df_help['Cabin'].str.replace(r'^A/\\d+/\\D+', 'useless')\n",
            "<ipython-input-30-d0a3d108f469>:13: FutureWarning: The default value of regex will change from True to False in a future version.\n",
            "  df_help['Cabin'] = df_help['Cabin'].str.replace(r'^B/\\d+/\\D+', 'high')\n",
            "<ipython-input-30-d0a3d108f469>:14: FutureWarning: The default value of regex will change from True to False in a future version.\n",
            "  df_help['Cabin'] = df_help['Cabin'].str.replace(r'^C/\\d+/\\D+', 'high')\n",
            "<ipython-input-30-d0a3d108f469>:15: FutureWarning: The default value of regex will change from True to False in a future version.\n",
            "  df_help['Cabin'] = df_help['Cabin'].str.replace(r'^D/\\d+/\\D+', 'useless')\n",
            "<ipython-input-30-d0a3d108f469>:16: FutureWarning: The default value of regex will change from True to False in a future version.\n",
            "  df_help['Cabin'] = df_help['Cabin'].str.replace(r'^E/\\d+/\\D+', 'low')\n",
            "<ipython-input-30-d0a3d108f469>:17: FutureWarning: The default value of regex will change from True to False in a future version.\n",
            "  df_help['Cabin'] = df_help['Cabin'].str.replace(r'^T/\\d+/\\D+', 'useless')\n",
            "<ipython-input-30-d0a3d108f469>:18: FutureWarning: The default value of regex will change from True to False in a future version.\n",
            "  df_help['Cabin'] = df_help['Cabin'].str.replace(r'^G/\\d+/\\D+', 'useless')\n",
            "<ipython-input-30-d0a3d108f469>:19: FutureWarning: The default value of regex will change from True to False in a future version.\n",
            "  df_help['Cabin'] = df_help['Cabin'].str.replace(r'^F/\\d+/\\D+', 'useless')\n"
          ]
        },
        {
          "output_type": "error",
          "ename": "TypeError",
          "evalue": "ignored",
          "traceback": [
            "\u001b[0;31m---------------------------------------------------------------------------\u001b[0m",
            "\u001b[0;31mTypeError\u001b[0m                                 Traceback (most recent call last)",
            "\u001b[0;32m<ipython-input-57-d8c93c594480>\u001b[0m in \u001b[0;36m<module>\u001b[0;34m\u001b[0m\n\u001b[1;32m      8\u001b[0m \u001b[0;34m\u001b[0m\u001b[0m\n\u001b[1;32m      9\u001b[0m \u001b[0;34m\u001b[0m\u001b[0m\n\u001b[0;32m---> 10\u001b[0;31m model_cat = CatBoostClassifier(params =  {'depth': 6,\n\u001b[0m\u001b[1;32m     11\u001b[0m            \u001b[0;34m'iterations'\u001b[0m\u001b[0;34m:\u001b[0m \u001b[0;36m2000\u001b[0m\u001b[0;34m,\u001b[0m\u001b[0;34m\u001b[0m\u001b[0;34m\u001b[0m\u001b[0m\n\u001b[1;32m     12\u001b[0m            \u001b[0;34m'learning_rate'\u001b[0m\u001b[0;34m:\u001b[0m \u001b[0;36m0.01\u001b[0m\u001b[0;34m,\u001b[0m\u001b[0;34m\u001b[0m\u001b[0;34m\u001b[0m\u001b[0m\n",
            "\u001b[0;31mTypeError\u001b[0m: __init__() got an unexpected keyword argument 'params'"
          ]
        }
      ]
    },
    {
      "cell_type": "code",
      "source": [
        "from sklearn.metrics import accuracy_score\n",
        "from types import prepare_class\n",
        "df = pd.read_csv(\"/content/test.csv\")\n",
        "df = ModelData(df)\n",
        "df = preparing_data(df)\n",
        "X = df\n",
        "y_pred = model_cat.predict(X)"
      ],
      "metadata": {
        "colab": {
          "base_uri": "https://localhost:8080/"
        },
        "id": "Vvh_a2PoQmQX",
        "outputId": "81233187-9149-46ac-e9d1-b51ade8d811e"
      },
      "execution_count": 54,
      "outputs": [
        {
          "output_type": "stream",
          "name": "stderr",
          "text": [
            "<ipython-input-30-d0a3d108f469>:12: FutureWarning: The default value of regex will change from True to False in a future version.\n",
            "  df_help['Cabin'] = df_help['Cabin'].str.replace(r'^A/\\d+/\\D+', 'useless')\n",
            "<ipython-input-30-d0a3d108f469>:13: FutureWarning: The default value of regex will change from True to False in a future version.\n",
            "  df_help['Cabin'] = df_help['Cabin'].str.replace(r'^B/\\d+/\\D+', 'high')\n",
            "<ipython-input-30-d0a3d108f469>:14: FutureWarning: The default value of regex will change from True to False in a future version.\n",
            "  df_help['Cabin'] = df_help['Cabin'].str.replace(r'^C/\\d+/\\D+', 'high')\n",
            "<ipython-input-30-d0a3d108f469>:15: FutureWarning: The default value of regex will change from True to False in a future version.\n",
            "  df_help['Cabin'] = df_help['Cabin'].str.replace(r'^D/\\d+/\\D+', 'useless')\n",
            "<ipython-input-30-d0a3d108f469>:16: FutureWarning: The default value of regex will change from True to False in a future version.\n",
            "  df_help['Cabin'] = df_help['Cabin'].str.replace(r'^E/\\d+/\\D+', 'low')\n",
            "<ipython-input-30-d0a3d108f469>:17: FutureWarning: The default value of regex will change from True to False in a future version.\n",
            "  df_help['Cabin'] = df_help['Cabin'].str.replace(r'^T/\\d+/\\D+', 'useless')\n",
            "<ipython-input-30-d0a3d108f469>:18: FutureWarning: The default value of regex will change from True to False in a future version.\n",
            "  df_help['Cabin'] = df_help['Cabin'].str.replace(r'^G/\\d+/\\D+', 'useless')\n",
            "<ipython-input-30-d0a3d108f469>:19: FutureWarning: The default value of regex will change from True to False in a future version.\n",
            "  df_help['Cabin'] = df_help['Cabin'].str.replace(r'^F/\\d+/\\D+', 'useless')\n"
          ]
        }
      ]
    },
    {
      "cell_type": "code",
      "source": [
        "df_sub = pd.read_csv(\"/content/sample_submission.csv\")\n",
        "df_sub[\"Transported\"] = y_pred"
      ],
      "metadata": {
        "id": "yv9dK99dRC1P"
      },
      "execution_count": 55,
      "outputs": []
    },
    {
      "cell_type": "code",
      "source": [
        "df_sub.to_csv('data.csv', index=False)\n",
        "from google.colab import files\n",
        "files.download('data.csv')"
      ],
      "metadata": {
        "colab": {
          "base_uri": "https://localhost:8080/",
          "height": 17
        },
        "id": "pzK-y5KzRIEx",
        "outputId": "7e0e62c3-0179-4639-e24e-899e581c542e"
      },
      "execution_count": 56,
      "outputs": [
        {
          "output_type": "display_data",
          "data": {
            "text/plain": [
              "<IPython.core.display.Javascript object>"
            ],
            "application/javascript": [
              "\n",
              "    async function download(id, filename, size) {\n",
              "      if (!google.colab.kernel.accessAllowed) {\n",
              "        return;\n",
              "      }\n",
              "      const div = document.createElement('div');\n",
              "      const label = document.createElement('label');\n",
              "      label.textContent = `Downloading \"${filename}\": `;\n",
              "      div.appendChild(label);\n",
              "      const progress = document.createElement('progress');\n",
              "      progress.max = size;\n",
              "      div.appendChild(progress);\n",
              "      document.body.appendChild(div);\n",
              "\n",
              "      const buffers = [];\n",
              "      let downloaded = 0;\n",
              "\n",
              "      const channel = await google.colab.kernel.comms.open(id);\n",
              "      // Send a message to notify the kernel that we're ready.\n",
              "      channel.send({})\n",
              "\n",
              "      for await (const message of channel.messages) {\n",
              "        // Send a message to notify the kernel that we're ready.\n",
              "        channel.send({})\n",
              "        if (message.buffers) {\n",
              "          for (const buffer of message.buffers) {\n",
              "            buffers.push(buffer);\n",
              "            downloaded += buffer.byteLength;\n",
              "            progress.value = downloaded;\n",
              "          }\n",
              "        }\n",
              "      }\n",
              "      const blob = new Blob(buffers, {type: 'application/binary'});\n",
              "      const a = document.createElement('a');\n",
              "      a.href = window.URL.createObjectURL(blob);\n",
              "      a.download = filename;\n",
              "      div.appendChild(a);\n",
              "      a.click();\n",
              "      div.remove();\n",
              "    }\n",
              "  "
            ]
          },
          "metadata": {}
        },
        {
          "output_type": "display_data",
          "data": {
            "text/plain": [
              "<IPython.core.display.Javascript object>"
            ],
            "application/javascript": [
              "download(\"download_c32a5e86-d04c-4c15-a35a-57e3f11b5e5c\", \"data.csv\", 57636)"
            ]
          },
          "metadata": {}
        }
      ]
    }
  ]
}